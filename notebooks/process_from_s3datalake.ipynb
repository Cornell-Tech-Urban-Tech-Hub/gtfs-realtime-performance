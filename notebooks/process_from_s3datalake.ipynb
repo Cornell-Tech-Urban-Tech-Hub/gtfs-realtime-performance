{
 "cells": [
  {
   "cell_type": "code",
   "execution_count": 3,
   "metadata": {},
   "outputs": [],
   "source": [
    "%load_ext autoreload\n",
    "%autoreload 2\n",
    "import os \n",
    "os.chdir(\"/Users/luohy/Documents/Projects/bus-observatory/gtfs-realtime-performance\")\n",
    "from src.s3 import list_files_in_bucket, filter_files_by_pattern, read_parquet_from_s3\n",
    "import pandas as pd\n",
    "from concurrent.futures import ThreadPoolExecutor, as_completed\n",
    "from src.gtfs_segments import GTFS_shape_processor\n",
    "from src.speeds import BusSpeedCalculator\n",
    "from src.api import parse_zipped_gtfs\n",
    "import geopandas as gpd\n",
    "from src.api import query_feed_data, get_access_token\n",
    "ACCESS_TOKEN = get_access_token()\n",
    "pd.set_option('display.max_columns', None)"
   ]
  },
  {
   "cell_type": "code",
   "execution_count": 4,
   "metadata": {},
   "outputs": [],
   "source": [
    "prefix = \"feeds/nyct_mta_bus_gtfsrt/\""
   ]
  },
  {
   "cell_type": "code",
   "execution_count": 5,
   "metadata": {},
   "outputs": [],
   "source": [
    "def load_all_parquet_files(file_list, bucket=\"busobservatory-lake\", max_workers=100):\n",
    "    dfs = []\n",
    "    with ThreadPoolExecutor(max_workers=max_workers) as executor:\n",
    "        futures = [executor.submit(read_parquet_from_s3, bucket, key) for key in file_list]\n",
    "        for future in as_completed(futures):\n",
    "            try:\n",
    "                dfs.append(future.result())\n",
    "            except Exception as e:\n",
    "                print(f\"Error reading a file: {e}\")\n",
    "    return pd.concat(dfs, ignore_index=True)"
   ]
  },
  {
   "cell_type": "markdown",
   "metadata": {},
   "source": [
    "# Load Relevant realtime data"
   ]
  },
  {
   "cell_type": "code",
   "execution_count": 8,
   "metadata": {},
   "outputs": [
    {
     "name": "stdout",
     "output_type": "stream",
     "text": [
      "Checking parquet file: ['feeds/nyct_mta_bus_gtfsrt/COMPACTED_nyct_mta_bus_gtfsrt_2023-04-28_13:41:56.parquet']\n"
     ]
    }
   ],
   "source": [
    "daily_files = list_files_in_bucket(\"busobservatory-lake\", prefix = prefix)\n",
    "daily_files_1 = [daily_files[0]]\n",
    "print(\"Checking parquet file:\", daily_files_1)\n",
    "vehicle_positions_1 = load_all_parquet_files(daily_files_1)"
   ]
  },
  {
   "cell_type": "code",
   "execution_count": 11,
   "metadata": {},
   "outputs": [
    {
     "name": "stdout",
     "output_type": "stream",
     "text": [
      "Index(['id', 'vehicle.trip.trip_id', 'vehicle.trip.start_date',\n",
      "       'vehicle.trip.route_id', 'vehicle.trip.direction_id',\n",
      "       'vehicle.position.latitude', 'vehicle.position.longitude',\n",
      "       'vehicle.position.bearing', 'vehicle.timestamp', 'vehicle.stop_id',\n",
      "       'vehicle.vehicle.id'],\n",
      "      dtype='object')\n",
      "(1204598, 11)\n",
      "              id                vehicle.trip.trip_id vehicle.trip.start_date  \\\n",
      "0  MTA NYCT_5331  OH_B3-Weekday-SDon-116200_M101_143                20230427   \n",
      "1  MTA NYCT_5330  OH_B3-Weekday-SDon-114600_M101_128                20230427   \n",
      "2  MTA NYCT_5335   KB_B3-Weekday-SDon-113400_BX1_130                20230427   \n",
      "3  MTA NYCT_5334   KB_B3-Weekday-SDon-117000_BX2_221                20230427   \n",
      "4  MTA NYCT_7989    UP_B3-Weekday-SDon-117800_B6_316                20230427   \n",
      "\n",
      "  vehicle.trip.route_id  vehicle.trip.direction_id  vehicle.position.latitude  \\\n",
      "0                  M102                        1.0                  40.791969   \n",
      "1                  M101                        1.0                  40.807739   \n",
      "2                   BX1                        0.0                  40.878471   \n",
      "3                   BX1                        0.0                  40.829853   \n",
      "4                    B6                        0.0                  40.633415   \n",
      "\n",
      "   vehicle.position.longitude  vehicle.position.bearing  \\\n",
      "0                  -73.946472                234.344666   \n",
      "1                  -73.945412                337.854828   \n",
      "2                  -73.898430                165.963760   \n",
      "3                  -73.920891                 60.945396   \n",
      "4                  -73.952942                  6.874818   \n",
      "\n",
      "          vehicle.timestamp vehicle.stop_id vehicle.vehicle.id  \n",
      "0 2023-04-27 23:47:34+00:00          403417      MTA NYCT_5331  \n",
      "1 2023-04-27 23:47:34+00:00          402659      MTA NYCT_5330  \n",
      "2 2023-04-27 23:47:36+00:00          100062      MTA NYCT_5335  \n",
      "3 2023-04-27 23:47:44+00:00          100027      MTA NYCT_5334  \n",
      "4 2023-04-27 23:47:47+00:00          300538      MTA NYCT_7989  \n"
     ]
    }
   ],
   "source": [
    "print(vehicle_positions_1.columns)\n",
    "print(vehicle_positions_1.shape)\n",
    "print(vehicle_positions_1.head())"
   ]
  }
 ],
 "metadata": {
  "kernelspec": {
   "display_name": ".venv",
   "language": "python",
   "name": "python3"
  },
  "language_info": {
   "codemirror_mode": {
    "name": "ipython",
    "version": 3
   },
   "file_extension": ".py",
   "mimetype": "text/x-python",
   "name": "python",
   "nbconvert_exporter": "python",
   "pygments_lexer": "ipython3",
   "version": "3.10.16"
  }
 },
 "nbformat": 4,
 "nbformat_minor": 2
}
