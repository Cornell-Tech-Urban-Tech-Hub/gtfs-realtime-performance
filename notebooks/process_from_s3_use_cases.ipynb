{
 "cells": [
  {
   "cell_type": "code",
   "execution_count": 52,
   "metadata": {},
   "outputs": [
    {
     "name": "stdout",
     "output_type": "stream",
     "text": [
      "The autoreload extension is already loaded. To reload it, use:\n",
      "  %reload_ext autoreload\n"
     ]
    }
   ],
   "source": [
    "%load_ext autoreload\n",
    "%autoreload 2\n",
    "import os \n",
    "os.chdir(\"/Users/luohy/Documents/Projects/bus-observatory/gtfs-realtime-performance\")\n",
    "from src.s3 import list_files_in_bucket, filter_files_by_pattern, read_parquet_from_s3\n",
    "import pandas as pd\n",
    "from concurrent.futures import ThreadPoolExecutor, as_completed\n",
    "from src.gtfs_segments import GTFS_shape_processor\n",
    "from src.speeds import BusSpeedCalculator\n",
    "from src.api import parse_zipped_gtfs\n",
    "import geopandas as gpd\n",
    "from src.api import query_feed_data, get_access_token\n",
    "ACCESS_TOKEN = get_access_token()\n",
    "pd.set_option('display.max_columns', None)\n",
    "import matplotlib.pyplot as plt\n"
   ]
  },
  {
   "cell_type": "markdown",
   "metadata": {},
   "source": [
    "# Preparation "
   ]
  },
  {
   "cell_type": "code",
   "execution_count": 53,
   "metadata": {},
   "outputs": [],
   "source": [
    "prefix = \"norm/bus-mta-vp/vehicles/\"\n",
    "bucket = \"dataclinic-gtfs-rt\""
   ]
  },
  {
   "cell_type": "code",
   "execution_count": 54,
   "metadata": {},
   "outputs": [],
   "source": [
    "def load_all_parquet_files(file_list, bucket, max_workers=100):\n",
    "    dfs = []\n",
    "    with ThreadPoolExecutor(max_workers=max_workers) as executor:\n",
    "        futures = [executor.submit(read_parquet_from_s3, bucket, key) for key in file_list]\n",
    "        for future in as_completed(futures):\n",
    "            try:\n",
    "                dfs.append(future.result())\n",
    "            except Exception as e:\n",
    "                print(f\"Error reading a file: {e}\")\n",
    "    print(f\"Read {len(dfs)} files from s3\")\n",
    "    return pd.concat(dfs, ignore_index=True)"
   ]
  },
  {
   "cell_type": "markdown",
   "metadata": {},
   "source": [
    "## Step 0: Figure out which static feed is correct.\n",
    "\n",
    "Pretty annoying. The trips and shapes are defined in the static gtfs feeds, and everytime a new static feed is released, the old `trip_id` values become obsolete. This is unfortunate because . It should be possible to just load all of the relevant static feeds and run a quick check on the relevant realtime feed data to see which static feed is in correct for the given dates. However, we can also just look through the outputs from MobilityData's API and find the one we want. Below, I load all the feeds for Manhattan."
   ]
  },
  {
   "cell_type": "code",
   "execution_count": 6,
   "metadata": {},
   "outputs": [
    {
     "data": {
      "text/plain": [
       "[{'id': 'mdb-513-202402080022',\n",
       "  'feed_id': 'mdb-513',\n",
       "  'hosted_url': 'https://files.mobilitydatabase.org/mdb-513/mdb-513-202402080022/mdb-513-202402080022.zip',\n",
       "  'note': None,\n",
       "  'downloaded_at': '2024-02-08T00:52:25.481924Z',\n",
       "  'hash': '25ebc713eff01d5d5da7e6a877926d636152417153dc591ef0763fa0851b3819',\n",
       "  'bounding_box': {'minimum_latitude': 40.701536,\n",
       "   'maximum_latitude': 40.865316,\n",
       "   'minimum_longitude': -74.018088,\n",
       "   'maximum_longitude': -73.864375},\n",
       "  'validation_report': None,\n",
       "  'service_date_range_start': None,\n",
       "  'service_date_range_end': None},\n",
       " {'id': 'mdb-513-202404010033',\n",
       "  'feed_id': 'mdb-513',\n",
       "  'hosted_url': 'https://files.mobilitydatabase.org/mdb-513/mdb-513-202404010033/mdb-513-202404010033.zip',\n",
       "  'note': None,\n",
       "  'downloaded_at': '2024-04-01T00:26:36.207481Z',\n",
       "  'hash': '4e9fce8767c4fe3eb5f0529ea49d29270543d0563d7fbf0d8c4c0920b61a3fbf',\n",
       "  'bounding_box': {'minimum_latitude': 40.701536,\n",
       "   'maximum_latitude': 40.865316,\n",
       "   'minimum_longitude': -74.018088,\n",
       "   'maximum_longitude': -73.864375},\n",
       "  'validation_report': {'validated_at': '2024-05-21T17:57:08Z',\n",
       "   'features': ['Route Colors', 'Shapes', 'Headsigns', 'Location Types'],\n",
       "   'validator_version': '5.0.1',\n",
       "   'total_error': 0,\n",
       "   'total_warning': 32147,\n",
       "   'total_info': 0,\n",
       "   'unique_error_count': 0,\n",
       "   'unique_warning_count': 3,\n",
       "   'unique_info_count': 0,\n",
       "   'url_json': 'https://files.mobilitydatabase.org/mdb-513/mdb-513-202404010033/report_5.0.1.json',\n",
       "   'url_html': 'https://files.mobilitydatabase.org/mdb-513/mdb-513-202404010033/report_5.0.1.html'},\n",
       "  'service_date_range_start': None,\n",
       "  'service_date_range_end': None},\n",
       " {'id': 'mdb-513-202407010038',\n",
       "  'feed_id': 'mdb-513',\n",
       "  'hosted_url': 'https://files.mobilitydatabase.org/mdb-513/mdb-513-202407010038/mdb-513-202407010038.zip',\n",
       "  'note': None,\n",
       "  'downloaded_at': '2024-07-01T00:41:40.236140Z',\n",
       "  'hash': '7161865be362a5ce6570fb4649f90d61a60f29f96fac91b0dd0667534e07cf36',\n",
       "  'bounding_box': {'minimum_latitude': 40.701536,\n",
       "   'maximum_latitude': 40.865316,\n",
       "   'minimum_longitude': -74.018088,\n",
       "   'maximum_longitude': -73.864375},\n",
       "  'validation_report': {'validated_at': '2024-07-01T00:41:49Z',\n",
       "   'features': ['Route Colors', 'Shapes', 'Headsigns', 'Location Types'],\n",
       "   'validator_version': '5.0.1',\n",
       "   'total_error': 0,\n",
       "   'total_warning': 32141,\n",
       "   'total_info': 0,\n",
       "   'unique_error_count': 0,\n",
       "   'unique_warning_count': 3,\n",
       "   'unique_info_count': 0,\n",
       "   'url_json': 'https://files.mobilitydatabase.org/mdb-513/mdb-513-202407010038/report_5.0.1.json',\n",
       "   'url_html': 'https://files.mobilitydatabase.org/mdb-513/mdb-513-202407010038/report_5.0.1.html'},\n",
       "  'service_date_range_start': None,\n",
       "  'service_date_range_end': None},\n",
       " {'id': 'mdb-513-202408290052',\n",
       "  'feed_id': 'mdb-513',\n",
       "  'hosted_url': 'https://files.mobilitydatabase.org/mdb-513/mdb-513-202408290052/mdb-513-202408290052.zip',\n",
       "  'note': None,\n",
       "  'downloaded_at': '2024-08-29T00:52:10.152009Z',\n",
       "  'hash': '1094056a387bac8fe897c05d0805072214f765198e66e1bf5cc243f9bc6749f7',\n",
       "  'bounding_box': {'minimum_latitude': 40.701536,\n",
       "   'maximum_latitude': 40.865316,\n",
       "   'minimum_longitude': -74.018088,\n",
       "   'maximum_longitude': -73.864375},\n",
       "  'validation_report': {'validated_at': '2024-08-29T00:52:23Z',\n",
       "   'features': ['Route Colors', 'Shapes', 'Headsigns', 'Location Types'],\n",
       "   'validator_version': '5.0.1',\n",
       "   'total_error': 0,\n",
       "   'total_warning': 39739,\n",
       "   'total_info': 0,\n",
       "   'unique_error_count': 0,\n",
       "   'unique_warning_count': 4,\n",
       "   'unique_info_count': 0,\n",
       "   'url_json': 'https://files.mobilitydatabase.org/mdb-513/mdb-513-202408290052/report_5.0.1.json',\n",
       "   'url_html': 'https://files.mobilitydatabase.org/mdb-513/mdb-513-202408290052/report_5.0.1.html'},\n",
       "  'service_date_range_start': None,\n",
       "  'service_date_range_end': None},\n",
       " {'id': 'mdb-513-202409090026',\n",
       "  'feed_id': 'mdb-513',\n",
       "  'hosted_url': 'https://files.mobilitydatabase.org/mdb-513/mdb-513-202409090026/mdb-513-202409090026.zip',\n",
       "  'note': None,\n",
       "  'downloaded_at': '2024-09-09T00:26:46.736595Z',\n",
       "  'hash': 'dcc4233a058f860d06693a419510cccb53de9fc821b1c9791995ac8ecddbad58',\n",
       "  'bounding_box': {'minimum_latitude': 40.701536,\n",
       "   'maximum_latitude': 40.865316,\n",
       "   'minimum_longitude': -74.018088,\n",
       "   'maximum_longitude': -73.864375},\n",
       "  'validation_report': {'validated_at': '2024-09-09T00:27:17Z',\n",
       "   'features': ['Route Colors', 'Shapes', 'Headsigns', 'Location Types'],\n",
       "   'validator_version': '5.0.1',\n",
       "   'total_error': 0,\n",
       "   'total_warning': 39738,\n",
       "   'total_info': 0,\n",
       "   'unique_error_count': 0,\n",
       "   'unique_warning_count': 3,\n",
       "   'unique_info_count': 0,\n",
       "   'url_json': 'https://files.mobilitydatabase.org/mdb-513/mdb-513-202409090026/report_5.0.1.json',\n",
       "   'url_html': 'https://files.mobilitydatabase.org/mdb-513/mdb-513-202409090026/report_5.0.1.html'},\n",
       "  'service_date_range_start': None,\n",
       "  'service_date_range_end': None},\n",
       " {'id': 'mdb-513-202412120015',\n",
       "  'feed_id': 'mdb-513',\n",
       "  'hosted_url': 'https://files.mobilitydatabase.org/mdb-513/mdb-513-202412120015/mdb-513-202412120015.zip',\n",
       "  'note': None,\n",
       "  'downloaded_at': '2024-12-12T00:15:17.484870Z',\n",
       "  'hash': '8fcf98450a3084a50022a8d74c02d9462026f04032e4892ec6ac7c99f5173b11',\n",
       "  'bounding_box': {'minimum_latitude': 40.701536,\n",
       "   'maximum_latitude': 40.865316,\n",
       "   'minimum_longitude': -74.018088,\n",
       "   'maximum_longitude': -73.864375},\n",
       "  'validation_report': {'validated_at': '2024-12-12T00:15:29Z',\n",
       "   'features': ['Route Colors', 'Shapes', 'Headsigns', 'Location Types'],\n",
       "   'validator_version': '6.0.0',\n",
       "   'total_error': 0,\n",
       "   'total_warning': 39738,\n",
       "   'total_info': 0,\n",
       "   'unique_error_count': 0,\n",
       "   'unique_warning_count': 3,\n",
       "   'unique_info_count': 0,\n",
       "   'url_json': 'https://files.mobilitydatabase.org/mdb-513/mdb-513-202412120015/report_6.0.0.json',\n",
       "   'url_html': 'https://files.mobilitydatabase.org/mdb-513/mdb-513-202412120015/report_6.0.0.html'},\n",
       "  'service_date_range_start': None,\n",
       "  'service_date_range_end': None},\n",
       " {'id': 'mdb-513-202501020055',\n",
       "  'feed_id': 'mdb-513',\n",
       "  'hosted_url': 'https://files.mobilitydatabase.org/mdb-513/mdb-513-202501020055/mdb-513-202501020055.zip',\n",
       "  'note': None,\n",
       "  'downloaded_at': '2025-01-02T00:55:23.717771Z',\n",
       "  'hash': '50f2ec8143cf146ffeeaa0d7813cbc59eab01a2438f5918dc1b824b3130124c6',\n",
       "  'bounding_box': {'minimum_latitude': 40.701536,\n",
       "   'maximum_latitude': 40.865316,\n",
       "   'minimum_longitude': -74.018088,\n",
       "   'maximum_longitude': -73.864375},\n",
       "  'validation_report': {'validated_at': '2025-01-02T00:55:33Z',\n",
       "   'features': ['Route Colors', 'Shapes', 'Headsigns', 'Location Types'],\n",
       "   'validator_version': '6.0.0',\n",
       "   'total_error': 0,\n",
       "   'total_warning': 39737,\n",
       "   'total_info': 0,\n",
       "   'unique_error_count': 0,\n",
       "   'unique_warning_count': 4,\n",
       "   'unique_info_count': 0,\n",
       "   'url_json': 'https://files.mobilitydatabase.org/mdb-513/mdb-513-202501020055/report_6.0.0.json',\n",
       "   'url_html': 'https://files.mobilitydatabase.org/mdb-513/mdb-513-202501020055/report_6.0.0.html'},\n",
       "  'service_date_range_start': None,\n",
       "  'service_date_range_end': None},\n",
       " {'id': 'mdb-513-202501230024',\n",
       "  'feed_id': 'mdb-513',\n",
       "  'hosted_url': 'https://files.mobilitydatabase.org/mdb-513/mdb-513-202501230024/mdb-513-202501230024.zip',\n",
       "  'note': None,\n",
       "  'downloaded_at': '2025-01-23T00:24:27.979522Z',\n",
       "  'hash': 'b8f67285e96d844f04315c241ce9b7a259ade94c3485bd6f04e188ea774f2860',\n",
       "  'bounding_box': {'minimum_latitude': 40.701536,\n",
       "   'maximum_latitude': 40.865316,\n",
       "   'minimum_longitude': -74.018088,\n",
       "   'maximum_longitude': -73.864375},\n",
       "  'validation_report': {'validated_at': '2025-01-23T00:24:40Z',\n",
       "   'features': ['Route Colors', 'Shapes', 'Headsigns', 'Location Types'],\n",
       "   'validator_version': '6.0.0',\n",
       "   'total_error': 0,\n",
       "   'total_warning': 39742,\n",
       "   'total_info': 0,\n",
       "   'unique_error_count': 0,\n",
       "   'unique_warning_count': 4,\n",
       "   'unique_info_count': 0,\n",
       "   'url_json': 'https://files.mobilitydatabase.org/mdb-513/mdb-513-202501230024/report_6.0.0.json',\n",
       "   'url_html': 'https://files.mobilitydatabase.org/mdb-513/mdb-513-202501230024/report_6.0.0.html'},\n",
       "  'service_date_range_start': None,\n",
       "  'service_date_range_end': None}]"
      ]
     },
     "execution_count": 6,
     "metadata": {},
     "output_type": "execute_result"
    }
   ],
   "source": [
    "response = query_feed_data(\"mdb-513\", ACCESS_TOKEN)\n",
    "# https://mobilitydatabase.org/feeds/mdb-513\n",
    "\n",
    "response"
   ]
  },
  {
   "cell_type": "code",
   "execution_count": 7,
   "metadata": {},
   "outputs": [
    {
     "name": "stdout",
     "output_type": "stream",
     "text": [
      "                     id  feed_id  \\\n",
      "0  mdb-513-202402080022  mdb-513   \n",
      "1  mdb-513-202404010033  mdb-513   \n",
      "2  mdb-513-202407010038  mdb-513   \n",
      "3  mdb-513-202408290052  mdb-513   \n",
      "4  mdb-513-202409090026  mdb-513   \n",
      "5  mdb-513-202412120015  mdb-513   \n",
      "6  mdb-513-202501020055  mdb-513   \n",
      "7  mdb-513-202501230024  mdb-513   \n",
      "\n",
      "                                          hosted_url  note  \\\n",
      "0  https://files.mobilitydatabase.org/mdb-513/mdb...  None   \n",
      "1  https://files.mobilitydatabase.org/mdb-513/mdb...  None   \n",
      "2  https://files.mobilitydatabase.org/mdb-513/mdb...  None   \n",
      "3  https://files.mobilitydatabase.org/mdb-513/mdb...  None   \n",
      "4  https://files.mobilitydatabase.org/mdb-513/mdb...  None   \n",
      "5  https://files.mobilitydatabase.org/mdb-513/mdb...  None   \n",
      "6  https://files.mobilitydatabase.org/mdb-513/mdb...  None   \n",
      "7  https://files.mobilitydatabase.org/mdb-513/mdb...  None   \n",
      "\n",
      "                 downloaded_at  \\\n",
      "0  2024-02-08T00:52:25.481924Z   \n",
      "1  2024-04-01T00:26:36.207481Z   \n",
      "2  2024-07-01T00:41:40.236140Z   \n",
      "3  2024-08-29T00:52:10.152009Z   \n",
      "4  2024-09-09T00:26:46.736595Z   \n",
      "5  2024-12-12T00:15:17.484870Z   \n",
      "6  2025-01-02T00:55:23.717771Z   \n",
      "7  2025-01-23T00:24:27.979522Z   \n",
      "\n",
      "                                                hash  \\\n",
      "0  25ebc713eff01d5d5da7e6a877926d636152417153dc59...   \n",
      "1  4e9fce8767c4fe3eb5f0529ea49d29270543d0563d7fbf...   \n",
      "2  7161865be362a5ce6570fb4649f90d61a60f29f96fac91...   \n",
      "3  1094056a387bac8fe897c05d0805072214f765198e66e1...   \n",
      "4  dcc4233a058f860d06693a419510cccb53de9fc821b1c9...   \n",
      "5  8fcf98450a3084a50022a8d74c02d9462026f04032e489...   \n",
      "6  50f2ec8143cf146ffeeaa0d7813cbc59eab01a2438f591...   \n",
      "7  b8f67285e96d844f04315c241ce9b7a259ade94c3485bd...   \n",
      "\n",
      "                                        bounding_box  \\\n",
      "0  {'minimum_latitude': 40.701536, 'maximum_latit...   \n",
      "1  {'minimum_latitude': 40.701536, 'maximum_latit...   \n",
      "2  {'minimum_latitude': 40.701536, 'maximum_latit...   \n",
      "3  {'minimum_latitude': 40.701536, 'maximum_latit...   \n",
      "4  {'minimum_latitude': 40.701536, 'maximum_latit...   \n",
      "5  {'minimum_latitude': 40.701536, 'maximum_latit...   \n",
      "6  {'minimum_latitude': 40.701536, 'maximum_latit...   \n",
      "7  {'minimum_latitude': 40.701536, 'maximum_latit...   \n",
      "\n",
      "                                   validation_report service_date_range_start  \\\n",
      "0                                               None                     None   \n",
      "1  {'validated_at': '2024-05-21T17:57:08Z', 'feat...                     None   \n",
      "2  {'validated_at': '2024-07-01T00:41:49Z', 'feat...                     None   \n",
      "3  {'validated_at': '2024-08-29T00:52:23Z', 'feat...                     None   \n",
      "4  {'validated_at': '2024-09-09T00:27:17Z', 'feat...                     None   \n",
      "5  {'validated_at': '2024-12-12T00:15:29Z', 'feat...                     None   \n",
      "6  {'validated_at': '2025-01-02T00:55:33Z', 'feat...                     None   \n",
      "7  {'validated_at': '2025-01-23T00:24:40Z', 'feat...                     None   \n",
      "\n",
      "  service_date_range_end  start_date  \n",
      "0                   None  2024-02-08  \n",
      "1                   None  2024-04-01  \n",
      "2                   None  2024-07-01  \n",
      "3                   None  2024-08-29  \n",
      "4                   None  2024-09-09  \n",
      "5                   None  2024-12-12  \n",
      "6                   None  2025-01-02  \n",
      "7                   None  2025-01-23  \n"
     ]
    }
   ],
   "source": [
    "def fetch_all_static_feeds(mdb_id, ACCESS_TOKEN):\n",
    "    response = query_feed_data(mdb_id, ACCESS_TOKEN)\n",
    "    if response is None:\n",
    "        raise ValueError(\"No response for mdb_id: \", mdb_id)\n",
    "    feed_updates = pd.DataFrame(response)\n",
    "    feed_updates['start_date'] = feed_updates[\"downloaded_at\"].str.extract(r\"(\\d{4}-\\d{2}-\\d{2})\")\n",
    "    return feed_updates\n",
    "\n",
    "mdb_id = \"mdb-513\"\n",
    "feed_updates = fetch_all_static_feeds(mdb_id, ACCESS_TOKEN=ACCESS_TOKEN)\n",
    "print(feed_updates)\n"
   ]
  },
  {
   "cell_type": "markdown",
   "metadata": {},
   "source": [
    "# Use Case 1: Bus Speed Comparsion\n",
    "\n",
    "Roadmap:\n",
    "1. date\n",
    "2. route_id\n",
    "3. url (date -> url)\n",
    "4. segment_df (route_id + url -> segment_df)\n",
    "\n",
    "- Bus Route: M50\n",
    "- Date: Dec 2024 and Jan 2025, Thursday only\n",
    "- Time: Aggregated average speed for each hour / half hour\n",
    "- Plot: Line graph for each date \n"
   ]
  },
  {
   "cell_type": "code",
   "execution_count": 10,
   "metadata": {},
   "outputs": [],
   "source": [
    "bucket = \"dataclinic-gtfs-rt\"\n",
    "\n",
    "def get_correct_static_url(feed_updates, date):\n",
    "    candidates = feed_updates[feed_updates[\"start_date\"] < date]\n",
    "    if candidates.empty:\n",
    "        print(f\"No static feed found before {date}\")\n",
    "        return None\n",
    "    else:\n",
    "        # return the last row which should be the latest static feed\n",
    "        return candidates.iloc[-1][\"hosted_url\"]\n",
    "\n",
    "def calculate_speeds_for_route(bucket, date, route_id):\n",
    "    # Step 0: Get the correct static feed and specify the url based on the date given\n",
    "    correct_url = get_correct_static_url(feed_updates, date)\n",
    "\n",
    "    # Step 1: Process static feed shapes into geodataframe\n",
    "    # this takes 2.5 seconds, which can be improved \n",
    "    segment_df = GTFS_shape_processor(correct_url, 4326, 2263).process_shapes()\n",
    "\n",
    "    # Step 2: Load relevant realtime data from s3 bucket for the given date\n",
    "    daily_files = list_files_in_bucket(bucket_name = bucket, prefix = f\"{prefix}date={date}/\")\n",
    "    vehicle_positions = load_all_parquet_files(file_list = daily_files, bucket = bucket)\n",
    "    GTFS_dict = parse_zipped_gtfs(correct_url)\n",
    "\n",
    "    # Step 3: Calculate speeds\n",
    "    speed_calculator = BusSpeedCalculator(vehicle_positions, GTFS_dict, segment_df)\n",
    "    speeds = speed_calculator.create_trip_speeds()\n",
    "    speeds = speed_calculator.match_trip_with_route(speeds)\n",
    "    \n",
    "    # remove outlier\n",
    "    speeds = speeds[speeds[\"route_id\"] == route_id]\n",
    "    speeds = speeds[speeds[\"speed_mph\"] < 70]\n",
    "    return speeds\n",
    "\n"
   ]
  },
  {
   "cell_type": "code",
   "execution_count": 12,
   "metadata": {},
   "outputs": [
    {
     "name": "stdout",
     "output_type": "stream",
     "text": [
      "['2025-01-06', '2025-01-13', '2025-01-20', '2025-01-27']\n"
     ]
    }
   ],
   "source": [
    "def get_all_weekdays(start_date: str, end_date: str, weekday_type: int):\n",
    "    # 0 - Monday, 1 - Tuesday, ..., 6 - Sunday\n",
    "    # return a list of date strings\n",
    "    dates = []\n",
    "    date_range = pd.date_range(start=start_date, end=end_date, freq='D')\n",
    "    for date in date_range:\n",
    "        if date.weekday() == weekday_type:\n",
    "            dates.append(date.strftime('%Y-%m-%d'))\n",
    "    return dates\n",
    "\n",
    "ans = get_all_weekdays(\"2025-01-01\", \"2025-01-31\", 0) # get all mondays\n",
    "print(ans)"
   ]
  },
  {
   "cell_type": "code",
   "execution_count": 16,
   "metadata": {},
   "outputs": [
    {
     "name": "stdout",
     "output_type": "stream",
     "text": [
      "['2025-01-06', '2025-01-13', '2025-01-20', '2025-01-27']\n",
      "['2024-12-09', '2024-12-16', '2024-12-23', '2024-12-30']\n",
      "Parsed GTFS static feed data successfully\n"
     ]
    },
    {
     "name": "stderr",
     "output_type": "stream",
     "text": [
      "/Users/luohy/Documents/Projects/bus-observatory/gtfs-realtime-performance/.venv/lib/python3.10/site-packages/shapely/linear.py:88: RuntimeWarning: invalid value encountered in line_locate_point\n",
      "  return lib.line_locate_point(line, other)\n"
     ]
    },
    {
     "name": "stdout",
     "output_type": "stream",
     "text": [
      "Read 1403 files from s3\n",
      "Parsed GTFS static feed data successfully\n",
      "Processing 9755 trips...\n"
     ]
    },
    {
     "name": "stderr",
     "output_type": "stream",
     "text": [
      "100%|██████████| 9755/9755 [02:08<00:00, 76.12it/s] \n"
     ]
    },
    {
     "name": "stdout",
     "output_type": "stream",
     "text": [
      "Saved speeds for M50 on 2025-01-06\n",
      "Parsed GTFS static feed data successfully\n"
     ]
    },
    {
     "name": "stderr",
     "output_type": "stream",
     "text": [
      "/Users/luohy/Documents/Projects/bus-observatory/gtfs-realtime-performance/.venv/lib/python3.10/site-packages/shapely/linear.py:88: RuntimeWarning: invalid value encountered in line_locate_point\n",
      "  return lib.line_locate_point(line, other)\n"
     ]
    },
    {
     "name": "stdout",
     "output_type": "stream",
     "text": [
      "Read 1402 files from s3\n",
      "Parsed GTFS static feed data successfully\n",
      "Processing 9945 trips...\n"
     ]
    },
    {
     "name": "stderr",
     "output_type": "stream",
     "text": [
      "100%|██████████| 9945/9945 [02:09<00:00, 77.05it/s]\n"
     ]
    },
    {
     "name": "stdout",
     "output_type": "stream",
     "text": [
      "Saved speeds for M50 on 2025-01-13\n",
      "Parsed GTFS static feed data successfully\n"
     ]
    },
    {
     "name": "stderr",
     "output_type": "stream",
     "text": [
      "/Users/luohy/Documents/Projects/bus-observatory/gtfs-realtime-performance/.venv/lib/python3.10/site-packages/shapely/linear.py:88: RuntimeWarning: invalid value encountered in line_locate_point\n",
      "  return lib.line_locate_point(line, other)\n"
     ]
    },
    {
     "name": "stdout",
     "output_type": "stream",
     "text": [
      "Read 1404 files from s3\n",
      "Parsed GTFS static feed data successfully\n",
      "Processing 8407 trips...\n"
     ]
    },
    {
     "name": "stderr",
     "output_type": "stream",
     "text": [
      "100%|██████████| 8407/8407 [01:37<00:00, 85.80it/s] \n"
     ]
    },
    {
     "name": "stdout",
     "output_type": "stream",
     "text": [
      "Saved speeds for M50 on 2025-01-20\n",
      "Parsed GTFS static feed data successfully\n"
     ]
    },
    {
     "name": "stderr",
     "output_type": "stream",
     "text": [
      "/Users/luohy/Documents/Projects/bus-observatory/gtfs-realtime-performance/.venv/lib/python3.10/site-packages/shapely/linear.py:88: RuntimeWarning: invalid value encountered in line_locate_point\n",
      "  return lib.line_locate_point(line, other)\n"
     ]
    },
    {
     "name": "stdout",
     "output_type": "stream",
     "text": [
      "Read 1405 files from s3\n",
      "Parsed GTFS static feed data successfully\n",
      "Processing 9859 trips...\n"
     ]
    },
    {
     "name": "stderr",
     "output_type": "stream",
     "text": [
      "100%|██████████| 9859/9859 [02:09<00:00, 75.97it/s]\n"
     ]
    },
    {
     "name": "stdout",
     "output_type": "stream",
     "text": [
      "Saved speeds for M50 on 2025-01-27\n",
      "Parsed GTFS static feed data successfully\n"
     ]
    },
    {
     "name": "stderr",
     "output_type": "stream",
     "text": [
      "/Users/luohy/Documents/Projects/bus-observatory/gtfs-realtime-performance/.venv/lib/python3.10/site-packages/shapely/linear.py:88: RuntimeWarning: invalid value encountered in line_locate_point\n",
      "  return lib.line_locate_point(line, other)\n"
     ]
    },
    {
     "name": "stdout",
     "output_type": "stream",
     "text": [
      "Read 1402 files from s3\n",
      "Parsed GTFS static feed data successfully\n",
      "Processing 9718 trips...\n"
     ]
    },
    {
     "name": "stderr",
     "output_type": "stream",
     "text": [
      "100%|██████████| 9718/9718 [02:02<00:00, 79.34it/s] \n"
     ]
    },
    {
     "name": "stdout",
     "output_type": "stream",
     "text": [
      "Saved speeds for M50 on 2024-12-09\n",
      "Parsed GTFS static feed data successfully\n"
     ]
    },
    {
     "name": "stderr",
     "output_type": "stream",
     "text": [
      "/Users/luohy/Documents/Projects/bus-observatory/gtfs-realtime-performance/.venv/lib/python3.10/site-packages/shapely/linear.py:88: RuntimeWarning: invalid value encountered in line_locate_point\n",
      "  return lib.line_locate_point(line, other)\n"
     ]
    },
    {
     "name": "stdout",
     "output_type": "stream",
     "text": [
      "Read 1403 files from s3\n",
      "Parsed GTFS static feed data successfully\n",
      "Processing 9390 trips...\n"
     ]
    },
    {
     "name": "stderr",
     "output_type": "stream",
     "text": [
      "100%|██████████| 9390/9390 [01:52<00:00, 83.41it/s] \n"
     ]
    },
    {
     "name": "stdout",
     "output_type": "stream",
     "text": [
      "Saved speeds for M50 on 2024-12-16\n",
      "Parsed GTFS static feed data successfully\n"
     ]
    },
    {
     "name": "stderr",
     "output_type": "stream",
     "text": [
      "/Users/luohy/Documents/Projects/bus-observatory/gtfs-realtime-performance/.venv/lib/python3.10/site-packages/shapely/linear.py:88: RuntimeWarning: invalid value encountered in line_locate_point\n",
      "  return lib.line_locate_point(line, other)\n"
     ]
    },
    {
     "name": "stdout",
     "output_type": "stream",
     "text": [
      "Read 1403 files from s3\n",
      "Parsed GTFS static feed data successfully\n",
      "Processing 9633 trips...\n"
     ]
    },
    {
     "name": "stderr",
     "output_type": "stream",
     "text": [
      "100%|██████████| 9633/9633 [01:59<00:00, 80.51it/s] \n"
     ]
    },
    {
     "name": "stdout",
     "output_type": "stream",
     "text": [
      "Saved speeds for M50 on 2024-12-23\n",
      "Parsed GTFS static feed data successfully\n"
     ]
    },
    {
     "name": "stderr",
     "output_type": "stream",
     "text": [
      "/Users/luohy/Documents/Projects/bus-observatory/gtfs-realtime-performance/.venv/lib/python3.10/site-packages/shapely/linear.py:88: RuntimeWarning: invalid value encountered in line_locate_point\n",
      "  return lib.line_locate_point(line, other)\n"
     ]
    },
    {
     "name": "stdout",
     "output_type": "stream",
     "text": [
      "Read 1403 files from s3\n",
      "Parsed GTFS static feed data successfully\n",
      "Processing 8746 trips...\n"
     ]
    },
    {
     "name": "stderr",
     "output_type": "stream",
     "text": [
      "100%|██████████| 8746/8746 [01:40<00:00, 87.06it/s] \n"
     ]
    },
    {
     "name": "stdout",
     "output_type": "stream",
     "text": [
      "Saved speeds for M50 on 2024-12-30\n"
     ]
    }
   ],
   "source": [
    "bucket = \"dataclinic-gtfs-rt\"\n",
    "route_id = \"M50\"\n",
    "\n",
    "weekday_type = 0\n",
    "experiment_mondays = get_all_weekdays(\"2025-01-05\", \"2025-01-31\", weekday_type)\n",
    "comparison_mondays = get_all_weekdays(\"2024-12-05\", \"2024-12-31\", weekday_type)\n",
    "\n",
    "print(experiment_mondays)\n",
    "print(comparison_mondays)\n",
    "\n",
    "# Create directories if they do not exist\n",
    "os.makedirs(\"data/2025-jan/\", exist_ok=True)\n",
    "os.makedirs(\"data/2024-dec/\", exist_ok=True)\n",
    "\n",
    "# Process experiment mondays\n",
    "for date in experiment_mondays:\n",
    "    speeds = calculate_speeds_for_route(bucket, date, route_id)\n",
    "    speeds.to_csv(os.path.join(\"data/2025-jan/\", f\"speeds_{route_id}_{date}.csv\"))\n",
    "    print(f\"Saved speeds for {route_id} on {date}\")\n",
    "\n",
    "# Process comparison mondays\n",
    "for date in comparison_mondays:\n",
    "    speeds = calculate_speeds_for_route(bucket, date, route_id)\n",
    "    speeds.to_csv(os.path.join(\"data/2024-dec/\", f\"speeds_{route_id}_{date}.csv\"))\n",
    "    print(f\"Saved speeds for {route_id} on {date}\")"
   ]
  },
  {
   "cell_type": "markdown",
   "metadata": {},
   "source": [
    "TODO:\n",
    "\n",
    "take M50 as an example\n",
    "- two versions of data visualization: 1. bus speed by half hour 2. bus commuting time \n",
    "- visualization of the selected area and the bus route\n",
    "- data warehousing design: 1. storage format 2. storage schema\n",
    "\n",
    "\n",
    "\n",
    "core bus speed calculation\n",
    "\n",
    "trip_segments[\"speed_mph\"] = (\n",
    "    (trip_segments[\"segment_length\"] / trip_segments[\"time_elapsed\"]) * 0.681818\n",
    ")\n"
   ]
  },
  {
   "cell_type": "code",
   "execution_count": 8,
   "metadata": {},
   "outputs": [],
   "source": [
    "def calculate_speeds_metric_daily(date: str, speeds: pd.DataFrame):\n",
    "    # calculcate the average speed for each hour\n",
    "    speeds[\"hour\"] = speeds[\"interpolated_time\"].dt.hour\n",
    "    \n",
    "    # aggregate segment_length and time_elapsed by hour\n",
    "    average_speed_df = speeds.groupby('hour').agg(\n",
    "        total_segment_length=('segment_length', 'sum'),\n",
    "        total_time_elapsed=('time_elapsed', 'sum')\n",
    "    ).reset_index()\n",
    "\n",
    "    # calculate average speed for each hour\n",
    "    average_speed_df['average_speed_mph'] = (\n",
    "        average_speed_df['total_segment_length'] / average_speed_df['total_time_elapsed']\n",
    "    )\n",
    "\n",
    "    # keep only the relevant columns\n",
    "    average_speed_df = average_speed_df[[\"route_id\", \"hour\", \"average_speed_mph\"]]\n",
    "    average_speed_df[\"date\"] = date\n",
    "\n",
    "    return average_speed_df"
   ]
  },
  {
   "cell_type": "code",
   "execution_count": 14,
   "metadata": {},
   "outputs": [
    {
     "name": "stdout",
     "output_type": "stream",
     "text": [
      "Parsed GTFS static feed data successfully\n"
     ]
    },
    {
     "name": "stderr",
     "output_type": "stream",
     "text": [
      "/Users/luohy/Documents/Projects/bus-observatory/gtfs-realtime-performance/.venv/lib/python3.10/site-packages/shapely/linear.py:88: RuntimeWarning: invalid value encountered in line_locate_point\n",
      "  return lib.line_locate_point(line, other)\n"
     ]
    },
    {
     "data": {
      "text/plain": [
       "<Axes: >"
      ]
     },
     "execution_count": 14,
     "metadata": {},
     "output_type": "execute_result"
    },
    {
     "data": {
      "image/png": "[encoded data removed]",
      "text/plain": [
       "<Figure size 640x480 with 2 Axes>"
      ]
     },
     "metadata": {},
     "output_type": "display_data"
    }
   ],
   "source": [
    "# plot the segment of a trip with median speed of the day\n",
    "date = \"2025-01-06\"\n",
    "route_id = \"M50\"\n",
    "correct_url = get_correct_static_url(feed_updates, date)\n",
    "segment_df = GTFS_shape_processor(correct_url, 4326, 2263).process_shapes()\n",
    "speeds = pd.read_csv(f\"data/2025-jan/speeds_{route_id}_{date}.csv\")\n",
    "segment_df.merge(speeds.groupby([\"prev_stop_id\", \"stop_id\"])[\"speed_mph\"].median().reset_index()).plot(column=\"speed_mph\", legend=True)"
   ]
  },
  {
   "cell_type": "markdown",
   "metadata": {},
   "source": [
    "# Use Case 2: Bus Travel Time Comparison\n",
    "\n",
    "- Bus Route: M50\n",
    "- Date: Dec 2024 and Jan 2025, Thursday only\n",
    "- Time: Traveling Time for the route, by half hour"
   ]
  },
  {
   "cell_type": "code",
   "execution_count": 55,
   "metadata": {},
   "outputs": [],
   "source": [
    "bucket = \"dataclinic-gtfs-rt\"\n",
    "route_id = \"M50\""
   ]
  },
  {
   "cell_type": "code",
   "execution_count": 56,
   "metadata": {},
   "outputs": [],
   "source": [
    "def get_bus_travel_time(bucket, date, route_id):\n",
    "    daily_files = list_files_in_bucket(bucket_name = bucket, prefix = f\"{prefix}date={date}/\")\n",
    "    buses = load_all_parquet_files(file_list = daily_files, bucket = bucket)\n",
    "\n",
    "    # select only route_id \n",
    "    buses = buses[buses[\"trip.route_id\"] == route_id]\n",
    "\n",
    "    # create unique trip id for each trip\n",
    "    buses[\"unique_trip_id\"] = (\n",
    "                buses[\"trip.trip_id\"].astype(str) +\n",
    "                buses[\"id\"].astype(str) +\n",
    "                buses[\"trip.start_date\"].astype(str) +\n",
    "                buses[\"trip.direction_id\"].astype(str)\n",
    "            )\n",
    "    \n",
    "    # order by unique_trip_id  \n",
    "    buses = buses.sort_values(by=\"unique_trip_id\")\n",
    "\n",
    "    # order by timestamp\n",
    "    # timestamp is more accurate than time, we will use timestamp as the ground truth from now on \n",
    "    buses = buses.sort_values(by=\"timestamp\")\n",
    "\n",
    "    # TODO: filter out the segments that are in the congestion zone area\n",
    "\n",
    "    # create new df with: trip_id, route_id, direction_id, start_date, trip_start_time, trip_end_time, trip_duration, unique_trip_id\n",
    "    # trip_start_time = first timestamp of the trip\n",
    "    # trip_end_time = last timestamp of the trip\n",
    "    # trip_duration = trip_end_time - trip_start_time\n",
    "    bus_trips = buses.groupby(\"unique_trip_id\").agg(\n",
    "        trip_id = (\"trip.trip_id\", \"first\"),\n",
    "        route_id = (\"trip.route_id\", \"first\"),\n",
    "        direction_id = (\"trip.direction_id\", \"first\"),\n",
    "        start_date = (\"trip.start_date\", \"first\"),\n",
    "        trip_start_timestamp = (\"timestamp\", \"min\"),\n",
    "        trip_end_timestamp = (\"timestamp\", \"max\"),\n",
    "    ).reset_index()\n",
    "\n",
    "    bus_trips[\"trip_duration_sec\"] = bus_trips[\"trip_end_timestamp\"] - bus_trips[\"trip_start_timestamp\"]\n",
    "    bus_trips[\"interpolated_time\"] = (bus_trips[\"trip_start_timestamp\"] + bus_trips[\"trip_end_timestamp\"]) / 2\n",
    "    bus_trips[\"interpolated_time\"] = pd.to_datetime(bus_trips[\"interpolated_time\"], unit=\"s\")\n",
    "\n",
    "    # delete those duration == 0\n",
    "    bus_trips = bus_trips[bus_trips[\"trip_duration_sec\"] > 0]\n",
    "\n",
    "    print(\"Fetched trips success, shape: \", bus_trips.shape)\n",
    "    return bus_trips"
   ]
  },
  {
   "cell_type": "code",
   "execution_count": 59,
   "metadata": {},
   "outputs": [
    {
     "name": "stdout",
     "output_type": "stream",
     "text": [
      "Read 1403 files from s3\n",
      "(121, 9)\n",
      "Read 1403 files from s3\n",
      "(106, 9)\n"
     ]
    }
   ],
   "source": [
    "# fetching the trips\n",
    "bus_trips_250106 = get_bus_travel_time(bucket, \"2025-01-06\", \"M50\")\n",
    "bus_trips_241206 = get_bus_travel_time(bucket, \"2024-12-06\", \"M50\")\n"
   ]
  },
  {
   "cell_type": "code",
   "execution_count": 68,
   "metadata": {},
   "outputs": [
    {
     "name": "stderr",
     "output_type": "stream",
     "text": [
      "/var/folders/ms/n7l6fpkd7bzbgn2k868rryv00000gn/T/ipykernel_87567/2597626038.py:5: FutureWarning: 'H' is deprecated and will be removed in a future version, please use 'h' instead.\n",
      "  df_250106[\"hour\"] = bus_trips_250106[\"interpolated_time\"].dt.floor(\"H\").dt.strftime(\"%H\")\n",
      "/var/folders/ms/n7l6fpkd7bzbgn2k868rryv00000gn/T/ipykernel_87567/2597626038.py:11: FutureWarning: 'H' is deprecated and will be removed in a future version, please use 'h' instead.\n",
      "  df_241206[\"hour\"] = df_241206[\"interpolated_time\"].dt.floor(\"H\").dt.strftime(\"%H\")\n"
     ]
    },
    {
     "data": {
      "image/png": "[encoded data removed]",
      "text/plain": [
       "<Figure size 1000x600 with 1 Axes>"
      ]
     },
     "metadata": {},
     "output_type": "display_data"
    },
    {
     "name": "stdout",
     "output_type": "stream",
     "text": [
      "    hour route_id  trip_duration_sec\n",
      "0      0      M50              525.0\n",
      "1      1      M50             2115.0\n",
      "2      2      M50             3627.0\n",
      "3      3      M50              884.0\n",
      "4      4      M50             1590.0\n",
      "5      5      M50             1723.0\n",
      "6      6      M50              632.5\n",
      "7      9      M50             1260.0\n",
      "8     10      M50             1620.0\n",
      "9     11      M50             1635.0\n",
      "10    12      M50             1545.0\n",
      "11    13      M50             1980.0\n",
      "12    14      M50             2640.0\n",
      "13    15      M50             2955.0\n",
      "14    16      M50             3285.0\n",
      "15    17      M50             3000.0\n",
      "16    18      M50             1800.0\n",
      "17    19      M50             3720.0\n",
      "18    20      M50             3255.0\n",
      "19    21      M50              900.0\n",
      "20    22      M50             1620.0\n",
      "21    23      M50              900.0\n"
     ]
    }
   ],
   "source": [
    "# Visualization\n",
    "\n",
    "# line plot of the average trip duration by interpolated time(half hour, drop date)\n",
    "df_250106 = bus_trips_250106.copy()\n",
    "df_250106[\"hour\"] = bus_trips_250106[\"interpolated_time\"].dt.floor(\"H\").dt.strftime(\"%H\")\n",
    "df_250106 = df_250106.groupby([\"hour\", \"route_id\"]).agg(\n",
    "    trip_duration_sec = (\"trip_duration_sec\", \"median\")\n",
    ").reset_index()\n",
    "\n",
    "df_241206 = bus_trips_241206.copy()\n",
    "df_241206[\"hour\"] = df_241206[\"interpolated_time\"].dt.floor(\"H\").dt.strftime(\"%H\")\n",
    "df_241206 = df_241206.groupby([\"hour\", \"route_id\"]).agg(\n",
    "    trip_duration_sec = (\"trip_duration_sec\", \"median\")\n",
    ").reset_index()\n",
    "\n",
    "# Ensure hour is an integer\n",
    "df_250106[\"hour\"] = df_250106[\"hour\"].astype(int)\n",
    "df_241206[\"hour\"] = df_241206[\"hour\"].astype(int)\n",
    "\n",
    "# line plot \n",
    "import matplotlib.pyplot as plt\n",
    "plt.figure(figsize=(10, 6))\n",
    "plt.plot(df_250106[\"hour\"], df_250106[\"trip_duration_sec\"], label=\"2025-01-06\")\n",
    "plt.plot(df_241206[\"hour\"], df_241206[\"trip_duration_sec\"], label=\"2024-12-06\")\n",
    "plt.title(\"Trip Duration by Hour\")\n",
    "plt.xlabel(\"Hour\")\n",
    "plt.ylabel(\"Trip Duration (seconds)\")\n",
    "plt.xticks(range(0, 25))\n",
    "plt.legend()\n",
    "plt.grid(True)\n",
    "plt.show()\n",
    "\n",
    "print(df_241206)"
   ]
  }
 ],
 "metadata": {
  "kernelspec": {
   "display_name": ".venv",
   "language": "python",
   "name": "python3"
  },
  "language_info": {
   "codemirror_mode": {
    "name": "ipython",
    "version": 3
   },
   "file_extension": ".py",
   "mimetype": "text/x-python",
   "name": "python",
   "nbconvert_exporter": "python",
   "pygments_lexer": "ipython3",
   "version": "3.10.16"
  }
 },
 "nbformat": 4,
 "nbformat_minor": 2
}
