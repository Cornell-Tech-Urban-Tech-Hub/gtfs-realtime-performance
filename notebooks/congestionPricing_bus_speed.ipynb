{
 "cells": [
  {
   "cell_type": "code",
   "execution_count": 2,
   "metadata": {},
   "outputs": [],
   "source": [
    "%load_ext autoreload\n",
    "%autoreload 2\n",
    "import os \n",
    "os.chdir(\"/Users/luohy/Documents/Projects/bus-observatory/gtfs-realtime-performance\")\n",
    "from src.s3 import list_files_in_bucket, filter_files_by_pattern, read_parquet_from_s3\n",
    "import pandas as pd\n",
    "from concurrent.futures import ThreadPoolExecutor, as_completed\n",
    "from src.gtfs_segments import GTFS_shape_processor\n",
    "from src.speeds import BusSpeedCalculator\n",
    "from src.api import parse_zipped_gtfs\n",
    "import geopandas as gpd\n",
    "from src.api import query_feed_data, get_access_token\n",
    "ACCESS_TOKEN = get_access_token()\n",
    "pd.set_option('display.max_columns', None)\n",
    "import matplotlib.pyplot as plt\n",
    "from collections import defaultdict\n",
    "from shapely.geometry import Point, Polygon\n",
    "from datetime import datetime\n",
    "import pytz\n"
   ]
  },
  {
   "cell_type": "markdown",
   "metadata": {},
   "source": [
    "# Preparation "
   ]
  },
  {
   "cell_type": "code",
   "execution_count": 3,
   "metadata": {},
   "outputs": [],
   "source": [
    "prefix = \"norm/bus-mta-vp/vehicles/\"\n",
    "bucket = \"dataclinic-gtfs-rt\""
   ]
  },
  {
   "cell_type": "code",
   "execution_count": 4,
   "metadata": {},
   "outputs": [],
   "source": [
    "def load_all_parquet_files(file_list, bucket, max_workers=100):\n",
    "    dfs = []\n",
    "    with ThreadPoolExecutor(max_workers=max_workers) as executor:\n",
    "        futures = [executor.submit(read_parquet_from_s3, bucket, key) for key in file_list]\n",
    "        for future in as_completed(futures):\n",
    "            try:\n",
    "                dfs.append(future.result())\n",
    "            except Exception as e:\n",
    "                print(f\"Error reading a file: {e}\")\n",
    "    print(f\"Read {len(dfs)} files from s3\")\n",
    "    return pd.concat(dfs, ignore_index=True)"
   ]
  },
  {
   "cell_type": "code",
   "execution_count": 5,
   "metadata": {},
   "outputs": [],
   "source": [
    "def load_all_csv_files(file_list, dir):\n",
    "    # return a concatenated dataframe\n",
    "    dfs = []\n",
    "    for file in file_list:\n",
    "        dfs.append(pd.read_csv(os.path.join(dir, file)))\n",
    "    return pd.concat(dfs, ignore_index=True)"
   ]
  },
  {
   "cell_type": "code",
   "execution_count": 6,
   "metadata": {},
   "outputs": [
    {
     "name": "stdout",
     "output_type": "stream",
     "text": [
      "['2025-01-06', '2025-01-13', '2025-01-20', '2025-01-27']\n"
     ]
    }
   ],
   "source": [
    "def get_all_weekdays(start_date: str, end_date: str, weekday_type: int):\n",
    "    # 0 - Monday, 1 - Tuesday, ..., 6 - Sunday\n",
    "    # return a list of date strings\n",
    "    dates = []\n",
    "    date_range = pd.date_range(start=start_date, end=end_date, freq='D')\n",
    "    for date in date_range:\n",
    "        if date.weekday() == weekday_type:\n",
    "            dates.append(date.strftime('%Y-%m-%d'))\n",
    "    return dates\n",
    "\n",
    "ans = get_all_weekdays(\"2025-01-01\", \"2025-01-31\", 0) # get all mondays\n",
    "print(ans)"
   ]
  },
  {
   "cell_type": "markdown",
   "metadata": {},
   "source": [
    "## Step 0: Figure out which static feed is correct.\n",
    "\n",
    "Pretty annoying. The trips and shapes are defined in the static gtfs feeds, and everytime a new static feed is released, the old `trip_id` values become obsolete. This is unfortunate because . It should be possible to just load all of the relevant static feeds and run a quick check on the relevant realtime feed data to see which static feed is in correct for the given dates. However, we can also just look through the outputs from MobilityData's API and find the one we want. Below, I load all the feeds for Manhattan."
   ]
  },
  {
   "cell_type": "code",
   "execution_count": 7,
   "metadata": {},
   "outputs": [
    {
     "data": {
      "text/plain": [
       "[{'id': 'mdb-513-202402080022',\n",
       "  'feed_id': 'mdb-513',\n",
       "  'hosted_url': 'https://files.mobilitydatabase.org/mdb-513/mdb-513-202402080022/mdb-513-202402080022.zip',\n",
       "  'note': None,\n",
       "  'downloaded_at': '2024-02-08T00:52:25.481924Z',\n",
       "  'hash': '25ebc713eff01d5d5da7e6a877926d636152417153dc591ef0763fa0851b3819',\n",
       "  'bounding_box': {'minimum_latitude': 40.701536,\n",
       "   'maximum_latitude': 40.865316,\n",
       "   'minimum_longitude': -74.018088,\n",
       "   'maximum_longitude': -73.864375},\n",
       "  'validation_report': None,\n",
       "  'service_date_range_start': None,\n",
       "  'service_date_range_end': None},\n",
       " {'id': 'mdb-513-202404010033',\n",
       "  'feed_id': 'mdb-513',\n",
       "  'hosted_url': 'https://files.mobilitydatabase.org/mdb-513/mdb-513-202404010033/mdb-513-202404010033.zip',\n",
       "  'note': None,\n",
       "  'downloaded_at': '2024-04-01T00:26:36.207481Z',\n",
       "  'hash': '4e9fce8767c4fe3eb5f0529ea49d29270543d0563d7fbf0d8c4c0920b61a3fbf',\n",
       "  'bounding_box': {'minimum_latitude': 40.701536,\n",
       "   'maximum_latitude': 40.865316,\n",
       "   'minimum_longitude': -74.018088,\n",
       "   'maximum_longitude': -73.864375},\n",
       "  'validation_report': {'validated_at': '2024-05-21T17:57:08Z',\n",
       "   'features': ['Route Colors', 'Shapes', 'Headsigns', 'Location Types'],\n",
       "   'validator_version': '5.0.1',\n",
       "   'total_error': 0,\n",
       "   'total_warning': 32147,\n",
       "   'total_info': 0,\n",
       "   'unique_error_count': 0,\n",
       "   'unique_warning_count': 3,\n",
       "   'unique_info_count': 0,\n",
       "   'url_json': 'https://files.mobilitydatabase.org/mdb-513/mdb-513-202404010033/report_5.0.1.json',\n",
       "   'url_html': 'https://files.mobilitydatabase.org/mdb-513/mdb-513-202404010033/report_5.0.1.html'},\n",
       "  'service_date_range_start': None,\n",
       "  'service_date_range_end': None},\n",
       " {'id': 'mdb-513-202407010038',\n",
       "  'feed_id': 'mdb-513',\n",
       "  'hosted_url': 'https://files.mobilitydatabase.org/mdb-513/mdb-513-202407010038/mdb-513-202407010038.zip',\n",
       "  'note': None,\n",
       "  'downloaded_at': '2024-07-01T00:41:40.236140Z',\n",
       "  'hash': '7161865be362a5ce6570fb4649f90d61a60f29f96fac91b0dd0667534e07cf36',\n",
       "  'bounding_box': {'minimum_latitude': 40.701536,\n",
       "   'maximum_latitude': 40.865316,\n",
       "   'minimum_longitude': -74.018088,\n",
       "   'maximum_longitude': -73.864375},\n",
       "  'validation_report': {'validated_at': '2024-07-01T00:41:49Z',\n",
       "   'features': ['Route Colors', 'Shapes', 'Headsigns', 'Location Types'],\n",
       "   'validator_version': '5.0.1',\n",
       "   'total_error': 0,\n",
       "   'total_warning': 32141,\n",
       "   'total_info': 0,\n",
       "   'unique_error_count': 0,\n",
       "   'unique_warning_count': 3,\n",
       "   'unique_info_count': 0,\n",
       "   'url_json': 'https://files.mobilitydatabase.org/mdb-513/mdb-513-202407010038/report_5.0.1.json',\n",
       "   'url_html': 'https://files.mobilitydatabase.org/mdb-513/mdb-513-202407010038/report_5.0.1.html'},\n",
       "  'service_date_range_start': None,\n",
       "  'service_date_range_end': None},\n",
       " {'id': 'mdb-513-202408290052',\n",
       "  'feed_id': 'mdb-513',\n",
       "  'hosted_url': 'https://files.mobilitydatabase.org/mdb-513/mdb-513-202408290052/mdb-513-202408290052.zip',\n",
       "  'note': None,\n",
       "  'downloaded_at': '2024-08-29T00:52:10.152009Z',\n",
       "  'hash': '1094056a387bac8fe897c05d0805072214f765198e66e1bf5cc243f9bc6749f7',\n",
       "  'bounding_box': {'minimum_latitude': 40.701536,\n",
       "   'maximum_latitude': 40.865316,\n",
       "   'minimum_longitude': -74.018088,\n",
       "   'maximum_longitude': -73.864375},\n",
       "  'validation_report': {'validated_at': '2024-08-29T00:52:23Z',\n",
       "   'features': ['Route Colors', 'Shapes', 'Headsigns', 'Location Types'],\n",
       "   'validator_version': '5.0.1',\n",
       "   'total_error': 0,\n",
       "   'total_warning': 39739,\n",
       "   'total_info': 0,\n",
       "   'unique_error_count': 0,\n",
       "   'unique_warning_count': 4,\n",
       "   'unique_info_count': 0,\n",
       "   'url_json': 'https://files.mobilitydatabase.org/mdb-513/mdb-513-202408290052/report_5.0.1.json',\n",
       "   'url_html': 'https://files.mobilitydatabase.org/mdb-513/mdb-513-202408290052/report_5.0.1.html'},\n",
       "  'service_date_range_start': None,\n",
       "  'service_date_range_end': None},\n",
       " {'id': 'mdb-513-202409090026',\n",
       "  'feed_id': 'mdb-513',\n",
       "  'hosted_url': 'https://files.mobilitydatabase.org/mdb-513/mdb-513-202409090026/mdb-513-202409090026.zip',\n",
       "  'note': None,\n",
       "  'downloaded_at': '2024-09-09T00:26:46.736595Z',\n",
       "  'hash': 'dcc4233a058f860d06693a419510cccb53de9fc821b1c9791995ac8ecddbad58',\n",
       "  'bounding_box': {'minimum_latitude': 40.701536,\n",
       "   'maximum_latitude': 40.865316,\n",
       "   'minimum_longitude': -74.018088,\n",
       "   'maximum_longitude': -73.864375},\n",
       "  'validation_report': {'validated_at': '2024-09-09T00:27:17Z',\n",
       "   'features': ['Route Colors', 'Shapes', 'Headsigns', 'Location Types'],\n",
       "   'validator_version': '5.0.1',\n",
       "   'total_error': 0,\n",
       "   'total_warning': 39738,\n",
       "   'total_info': 0,\n",
       "   'unique_error_count': 0,\n",
       "   'unique_warning_count': 3,\n",
       "   'unique_info_count': 0,\n",
       "   'url_json': 'https://files.mobilitydatabase.org/mdb-513/mdb-513-202409090026/report_5.0.1.json',\n",
       "   'url_html': 'https://files.mobilitydatabase.org/mdb-513/mdb-513-202409090026/report_5.0.1.html'},\n",
       "  'service_date_range_start': None,\n",
       "  'service_date_range_end': None},\n",
       " {'id': 'mdb-513-202412120015',\n",
       "  'feed_id': 'mdb-513',\n",
       "  'hosted_url': 'https://files.mobilitydatabase.org/mdb-513/mdb-513-202412120015/mdb-513-202412120015.zip',\n",
       "  'note': None,\n",
       "  'downloaded_at': '2024-12-12T00:15:17.484870Z',\n",
       "  'hash': '8fcf98450a3084a50022a8d74c02d9462026f04032e4892ec6ac7c99f5173b11',\n",
       "  'bounding_box': {'minimum_latitude': 40.701536,\n",
       "   'maximum_latitude': 40.865316,\n",
       "   'minimum_longitude': -74.018088,\n",
       "   'maximum_longitude': -73.864375},\n",
       "  'validation_report': {'validated_at': '2024-12-12T00:15:29Z',\n",
       "   'features': ['Route Colors', 'Shapes', 'Headsigns', 'Location Types'],\n",
       "   'validator_version': '6.0.0',\n",
       "   'total_error': 0,\n",
       "   'total_warning': 39738,\n",
       "   'total_info': 0,\n",
       "   'unique_error_count': 0,\n",
       "   'unique_warning_count': 3,\n",
       "   'unique_info_count': 0,\n",
       "   'url_json': 'https://files.mobilitydatabase.org/mdb-513/mdb-513-202412120015/report_6.0.0.json',\n",
       "   'url_html': 'https://files.mobilitydatabase.org/mdb-513/mdb-513-202412120015/report_6.0.0.html'},\n",
       "  'service_date_range_start': None,\n",
       "  'service_date_range_end': None},\n",
       " {'id': 'mdb-513-202501020055',\n",
       "  'feed_id': 'mdb-513',\n",
       "  'hosted_url': 'https://files.mobilitydatabase.org/mdb-513/mdb-513-202501020055/mdb-513-202501020055.zip',\n",
       "  'note': None,\n",
       "  'downloaded_at': '2025-01-02T00:55:23.717771Z',\n",
       "  'hash': '50f2ec8143cf146ffeeaa0d7813cbc59eab01a2438f5918dc1b824b3130124c6',\n",
       "  'bounding_box': {'minimum_latitude': 40.701536,\n",
       "   'maximum_latitude': 40.865316,\n",
       "   'minimum_longitude': -74.018088,\n",
       "   'maximum_longitude': -73.864375},\n",
       "  'validation_report': {'validated_at': '2025-01-02T00:55:33Z',\n",
       "   'features': ['Route Colors', 'Shapes', 'Headsigns', 'Location Types'],\n",
       "   'validator_version': '6.0.0',\n",
       "   'total_error': 0,\n",
       "   'total_warning': 39737,\n",
       "   'total_info': 0,\n",
       "   'unique_error_count': 0,\n",
       "   'unique_warning_count': 4,\n",
       "   'unique_info_count': 0,\n",
       "   'url_json': 'https://files.mobilitydatabase.org/mdb-513/mdb-513-202501020055/report_6.0.0.json',\n",
       "   'url_html': 'https://files.mobilitydatabase.org/mdb-513/mdb-513-202501020055/report_6.0.0.html'},\n",
       "  'service_date_range_start': None,\n",
       "  'service_date_range_end': None},\n",
       " {'id': 'mdb-513-202501230024',\n",
       "  'feed_id': 'mdb-513',\n",
       "  'hosted_url': 'https://files.mobilitydatabase.org/mdb-513/mdb-513-202501230024/mdb-513-202501230024.zip',\n",
       "  'note': None,\n",
       "  'downloaded_at': '2025-01-23T00:24:27.979522Z',\n",
       "  'hash': 'b8f67285e96d844f04315c241ce9b7a259ade94c3485bd6f04e188ea774f2860',\n",
       "  'bounding_box': {'minimum_latitude': 40.701536,\n",
       "   'maximum_latitude': 40.865316,\n",
       "   'minimum_longitude': -74.018088,\n",
       "   'maximum_longitude': -73.864375},\n",
       "  'validation_report': {'validated_at': '2025-01-23T00:24:40Z',\n",
       "   'features': ['Route Colors', 'Shapes', 'Headsigns', 'Location Types'],\n",
       "   'validator_version': '6.0.0',\n",
       "   'total_error': 0,\n",
       "   'total_warning': 39742,\n",
       "   'total_info': 0,\n",
       "   'unique_error_count': 0,\n",
       "   'unique_warning_count': 4,\n",
       "   'unique_info_count': 0,\n",
       "   'url_json': 'https://files.mobilitydatabase.org/mdb-513/mdb-513-202501230024/report_6.0.0.json',\n",
       "   'url_html': 'https://files.mobilitydatabase.org/mdb-513/mdb-513-202501230024/report_6.0.0.html'},\n",
       "  'service_date_range_start': None,\n",
       "  'service_date_range_end': None},\n",
       " {'id': 'mdb-513-202502170105',\n",
       "  'feed_id': 'mdb-513',\n",
       "  'hosted_url': 'https://files.mobilitydatabase.org/mdb-513/mdb-513-202502170105/mdb-513-202502170105.zip',\n",
       "  'note': None,\n",
       "  'downloaded_at': '2025-02-17T01:05:23.814135Z',\n",
       "  'hash': '4dc379ad635b09be6473ed158f152cc7126e0eb01d38d73be6b21426b0ccae23',\n",
       "  'bounding_box': {'minimum_latitude': 40.701536,\n",
       "   'maximum_latitude': 40.865316,\n",
       "   'minimum_longitude': -74.018088,\n",
       "   'maximum_longitude': -73.864375},\n",
       "  'validation_report': {'validated_at': '2025-02-17T01:05:34Z',\n",
       "   'features': ['Route Colors', 'Shapes', 'Headsigns', 'Location Types'],\n",
       "   'validator_version': '6.0.0',\n",
       "   'total_error': 0,\n",
       "   'total_warning': 32176,\n",
       "   'total_info': 0,\n",
       "   'unique_error_count': 0,\n",
       "   'unique_warning_count': 4,\n",
       "   'unique_info_count': 0,\n",
       "   'url_json': 'https://files.mobilitydatabase.org/mdb-513/mdb-513-202502170105/report_6.0.0.json',\n",
       "   'url_html': 'https://files.mobilitydatabase.org/mdb-513/mdb-513-202502170105/report_6.0.0.html'},\n",
       "  'service_date_range_start': None,\n",
       "  'service_date_range_end': None}]"
      ]
     },
     "execution_count": 7,
     "metadata": {},
     "output_type": "execute_result"
    }
   ],
   "source": [
    "response = query_feed_data(\"mdb-513\", ACCESS_TOKEN)\n",
    "# https://mobilitydatabase.org/feeds/mdb-513\n",
    "\n",
    "response"
   ]
  },
  {
   "cell_type": "code",
   "execution_count": 8,
   "metadata": {},
   "outputs": [
    {
     "name": "stdout",
     "output_type": "stream",
     "text": [
      "                     id  feed_id  \\\n",
      "0  mdb-513-202402080022  mdb-513   \n",
      "1  mdb-513-202404010033  mdb-513   \n",
      "2  mdb-513-202407010038  mdb-513   \n",
      "3  mdb-513-202408290052  mdb-513   \n",
      "4  mdb-513-202409090026  mdb-513   \n",
      "5  mdb-513-202412120015  mdb-513   \n",
      "6  mdb-513-202501020055  mdb-513   \n",
      "7  mdb-513-202501230024  mdb-513   \n",
      "8  mdb-513-202502170105  mdb-513   \n",
      "\n",
      "                                          hosted_url  note  \\\n",
      "0  https://files.mobilitydatabase.org/mdb-513/mdb...  None   \n",
      "1  https://files.mobilitydatabase.org/mdb-513/mdb...  None   \n",
      "2  https://files.mobilitydatabase.org/mdb-513/mdb...  None   \n",
      "3  https://files.mobilitydatabase.org/mdb-513/mdb...  None   \n",
      "4  https://files.mobilitydatabase.org/mdb-513/mdb...  None   \n",
      "5  https://files.mobilitydatabase.org/mdb-513/mdb...  None   \n",
      "6  https://files.mobilitydatabase.org/mdb-513/mdb...  None   \n",
      "7  https://files.mobilitydatabase.org/mdb-513/mdb...  None   \n",
      "8  https://files.mobilitydatabase.org/mdb-513/mdb...  None   \n",
      "\n",
      "                 downloaded_at  \\\n",
      "0  2024-02-08T00:52:25.481924Z   \n",
      "1  2024-04-01T00:26:36.207481Z   \n",
      "2  2024-07-01T00:41:40.236140Z   \n",
      "3  2024-08-29T00:52:10.152009Z   \n",
      "4  2024-09-09T00:26:46.736595Z   \n",
      "5  2024-12-12T00:15:17.484870Z   \n",
      "6  2025-01-02T00:55:23.717771Z   \n",
      "7  2025-01-23T00:24:27.979522Z   \n",
      "8  2025-02-17T01:05:23.814135Z   \n",
      "\n",
      "                                                hash  \\\n",
      "0  25ebc713eff01d5d5da7e6a877926d636152417153dc59...   \n",
      "1  4e9fce8767c4fe3eb5f0529ea49d29270543d0563d7fbf...   \n",
      "2  7161865be362a5ce6570fb4649f90d61a60f29f96fac91...   \n",
      "3  1094056a387bac8fe897c05d0805072214f765198e66e1...   \n",
      "4  dcc4233a058f860d06693a419510cccb53de9fc821b1c9...   \n",
      "5  8fcf98450a3084a50022a8d74c02d9462026f04032e489...   \n",
      "6  50f2ec8143cf146ffeeaa0d7813cbc59eab01a2438f591...   \n",
      "7  b8f67285e96d844f04315c241ce9b7a259ade94c3485bd...   \n",
      "8  4dc379ad635b09be6473ed158f152cc7126e0eb01d38d7...   \n",
      "\n",
      "                                        bounding_box  \\\n",
      "0  {'minimum_latitude': 40.701536, 'maximum_latit...   \n",
      "1  {'minimum_latitude': 40.701536, 'maximum_latit...   \n",
      "2  {'minimum_latitude': 40.701536, 'maximum_latit...   \n",
      "3  {'minimum_latitude': 40.701536, 'maximum_latit...   \n",
      "4  {'minimum_latitude': 40.701536, 'maximum_latit...   \n",
      "5  {'minimum_latitude': 40.701536, 'maximum_latit...   \n",
      "6  {'minimum_latitude': 40.701536, 'maximum_latit...   \n",
      "7  {'minimum_latitude': 40.701536, 'maximum_latit...   \n",
      "8  {'minimum_latitude': 40.701536, 'maximum_latit...   \n",
      "\n",
      "                                   validation_report service_date_range_start  \\\n",
      "0                                               None               2024-02-08   \n",
      "1  {'validated_at': '2024-05-21T17:57:08Z', 'feat...               2024-04-01   \n",
      "2  {'validated_at': '2024-07-01T00:41:49Z', 'feat...               2024-07-01   \n",
      "3  {'validated_at': '2024-08-29T00:52:23Z', 'feat...               2024-08-29   \n",
      "4  {'validated_at': '2024-09-09T00:27:17Z', 'feat...               2024-09-09   \n",
      "5  {'validated_at': '2024-12-12T00:15:29Z', 'feat...               2024-12-12   \n",
      "6  {'validated_at': '2025-01-02T00:55:33Z', 'feat...               2025-01-02   \n",
      "7  {'validated_at': '2025-01-23T00:24:40Z', 'feat...               2025-01-23   \n",
      "8  {'validated_at': '2025-02-17T01:05:34Z', 'feat...               2025-02-17   \n",
      "\n",
      "  service_date_range_end  \n",
      "0             2024-04-01  \n",
      "1             2024-07-01  \n",
      "2             2024-08-29  \n",
      "3             2024-09-09  \n",
      "4             2024-12-12  \n",
      "5             2025-01-02  \n",
      "6             2025-01-23  \n",
      "7             2025-02-17  \n",
      "8                    NaN  \n"
     ]
    }
   ],
   "source": [
    "def fetch_all_static_feeds(mdb_id, ACCESS_TOKEN) -> pd.DataFrame:\n",
    "    response = query_feed_data(mdb_id, ACCESS_TOKEN)\n",
    "    if response is None:\n",
    "        raise ValueError(\"No response for mdb_id: \", mdb_id)\n",
    "    feed_updates = pd.DataFrame(response)\n",
    "    if feed_updates[\"service_date_range_start\"].isnull().all(): # Include start date\n",
    "        feed_updates[\"service_date_range_start\"] = feed_updates[\"downloaded_at\"].str.extract(r\"(\\d{4}-\\d{2}-\\d{2})\")\n",
    "    if feed_updates[\"service_date_range_end\"].isnull().all(): # Exclude end date\n",
    "        next_row_dates = feed_updates[\"downloaded_at\"].shift(-1).str.extract(r\"(\\d{4}-\\d{2}-\\d{2})\")\n",
    "        feed_updates[\"service_date_range_end\"] = next_row_dates\n",
    "    return feed_updates\n",
    "\n",
    "mdb_id = \"mdb-513\"\n",
    "feed_updates = fetch_all_static_feeds(mdb_id, ACCESS_TOKEN=ACCESS_TOKEN)\n",
    "print(feed_updates)\n"
   ]
  },
  {
   "cell_type": "code",
   "execution_count": 9,
   "metadata": {},
   "outputs": [],
   "source": [
    "# Get correct url for a given date\n",
    "def get_correct_static_url(feed_updates, date):\n",
    "    candidates = feed_updates[feed_updates[\"service_date_range_start\"] <= date < feed_updates[\"service_date_range_end\"]]\n",
    "    if candidates.empty:\n",
    "        print(f\"No static feed found before {date}\")\n",
    "        return None\n",
    "    else:\n",
    "        # return the last row which should be the latest static feed\n",
    "        return candidates.iloc[-1][\"hosted_url\"], candidates.iloc[-1][\"id\"]"
   ]
  },
  {
   "cell_type": "markdown",
   "metadata": {},
   "source": [
    "# Use Case 1: Bus Speed Comparsion\n",
    "\n",
    "- Bus Route: M50\n",
    "- Date: Dec 2024 and Jan 2025, Thursday only？ \n",
    "- Time: median speed for each hour / half hour\n",
    "- Plot: Line graph for each date \n"
   ]
  },
  {
   "cell_type": "code",
   "execution_count": 10,
   "metadata": {},
   "outputs": [],
   "source": [
    "bucket = \"dataclinic-gtfs-rt\"\n",
    "\n",
    "def calculate_speeds_for_route(bucket, date, route_id):\n",
    "    # Step 0: Get the correct static feed and specify the url based on the date given\n",
    "    correct_url, _ = get_correct_static_url(feed_updates, date)\n",
    "\n",
    "    # Step 1: Process static feed shapes into geodataframe\n",
    "    # this takes 2.5 seconds, which can be improved \n",
    "    segment_df = GTFS_shape_processor(correct_url, 4326, 2263).process_shapes()\n",
    "\n",
    "    # Step 2: Load relevant realtime data from s3 bucket for the given date\n",
    "    daily_files = list_files_in_bucket(bucket_name = bucket, prefix = f\"{prefix}date={date}/\")\n",
    "    vehicle_positions = load_all_parquet_files(file_list = daily_files, bucket = bucket)\n",
    "    GTFS_dict = parse_zipped_gtfs(correct_url)\n",
    "\n",
    "    # Step 3: Calculate speeds\n",
    "    speed_calculator = BusSpeedCalculator(vehicle_positions, GTFS_dict, segment_df)\n",
    "    speeds = speed_calculator.create_trip_speeds()\n",
    "    speeds = speed_calculator.match_trip_with_route(speeds)\n",
    "    \n",
    "    # remove outlier\n",
    "    speeds = speeds[speeds[\"route_id\"] == route_id]\n",
    "    speeds = speeds[speeds[\"speed_mph\"] < 70]\n",
    "    return speeds"
   ]
  },
  {
   "cell_type": "markdown",
   "metadata": {},
   "source": [
    "## 1. Data Extraction and Storage (Skipped if it has already been done)"
   ]
  },
  {
   "cell_type": "code",
   "execution_count": 16,
   "metadata": {},
   "outputs": [
    {
     "name": "stdout",
     "output_type": "stream",
     "text": [
      "['2025-01-06', '2025-01-13', '2025-01-20', '2025-01-27']\n",
      "['2024-12-09', '2024-12-16', '2024-12-23', '2024-12-30']\n",
      "Parsed GTFS static feed data successfully\n"
     ]
    },
    {
     "name": "stderr",
     "output_type": "stream",
     "text": [
      "/Users/luohy/Documents/Projects/bus-observatory/gtfs-realtime-performance/.venv/lib/python3.10/site-packages/shapely/linear.py:88: RuntimeWarning: invalid value encountered in line_locate_point\n",
      "  return lib.line_locate_point(line, other)\n"
     ]
    },
    {
     "name": "stdout",
     "output_type": "stream",
     "text": [
      "Read 1403 files from s3\n",
      "Parsed GTFS static feed data successfully\n",
      "Processing 9755 trips...\n"
     ]
    },
    {
     "name": "stderr",
     "output_type": "stream",
     "text": [
      "100%|██████████| 9755/9755 [02:08<00:00, 76.12it/s] \n"
     ]
    },
    {
     "name": "stdout",
     "output_type": "stream",
     "text": [
      "Saved speeds for M50 on 2025-01-06\n",
      "Parsed GTFS static feed data successfully\n"
     ]
    },
    {
     "name": "stderr",
     "output_type": "stream",
     "text": [
      "/Users/luohy/Documents/Projects/bus-observatory/gtfs-realtime-performance/.venv/lib/python3.10/site-packages/shapely/linear.py:88: RuntimeWarning: invalid value encountered in line_locate_point\n",
      "  return lib.line_locate_point(line, other)\n"
     ]
    },
    {
     "name": "stdout",
     "output_type": "stream",
     "text": [
      "Read 1402 files from s3\n",
      "Parsed GTFS static feed data successfully\n",
      "Processing 9945 trips...\n"
     ]
    },
    {
     "name": "stderr",
     "output_type": "stream",
     "text": [
      "100%|██████████| 9945/9945 [02:09<00:00, 77.05it/s]\n"
     ]
    },
    {
     "name": "stdout",
     "output_type": "stream",
     "text": [
      "Saved speeds for M50 on 2025-01-13\n",
      "Parsed GTFS static feed data successfully\n"
     ]
    },
    {
     "name": "stderr",
     "output_type": "stream",
     "text": [
      "/Users/luohy/Documents/Projects/bus-observatory/gtfs-realtime-performance/.venv/lib/python3.10/site-packages/shapely/linear.py:88: RuntimeWarning: invalid value encountered in line_locate_point\n",
      "  return lib.line_locate_point(line, other)\n"
     ]
    },
    {
     "name": "stdout",
     "output_type": "stream",
     "text": [
      "Read 1404 files from s3\n",
      "Parsed GTFS static feed data successfully\n",
      "Processing 8407 trips...\n"
     ]
    },
    {
     "name": "stderr",
     "output_type": "stream",
     "text": [
      "100%|██████████| 8407/8407 [01:37<00:00, 85.80it/s] \n"
     ]
    },
    {
     "name": "stdout",
     "output_type": "stream",
     "text": [
      "Saved speeds for M50 on 2025-01-20\n",
      "Parsed GTFS static feed data successfully\n"
     ]
    },
    {
     "name": "stderr",
     "output_type": "stream",
     "text": [
      "/Users/luohy/Documents/Projects/bus-observatory/gtfs-realtime-performance/.venv/lib/python3.10/site-packages/shapely/linear.py:88: RuntimeWarning: invalid value encountered in line_locate_point\n",
      "  return lib.line_locate_point(line, other)\n"
     ]
    },
    {
     "name": "stdout",
     "output_type": "stream",
     "text": [
      "Read 1405 files from s3\n",
      "Parsed GTFS static feed data successfully\n",
      "Processing 9859 trips...\n"
     ]
    },
    {
     "name": "stderr",
     "output_type": "stream",
     "text": [
      "100%|██████████| 9859/9859 [02:09<00:00, 75.97it/s]\n"
     ]
    },
    {
     "name": "stdout",
     "output_type": "stream",
     "text": [
      "Saved speeds for M50 on 2025-01-27\n",
      "Parsed GTFS static feed data successfully\n"
     ]
    },
    {
     "name": "stderr",
     "output_type": "stream",
     "text": [
      "/Users/luohy/Documents/Projects/bus-observatory/gtfs-realtime-performance/.venv/lib/python3.10/site-packages/shapely/linear.py:88: RuntimeWarning: invalid value encountered in line_locate_point\n",
      "  return lib.line_locate_point(line, other)\n"
     ]
    },
    {
     "name": "stdout",
     "output_type": "stream",
     "text": [
      "Read 1402 files from s3\n",
      "Parsed GTFS static feed data successfully\n",
      "Processing 9718 trips...\n"
     ]
    },
    {
     "name": "stderr",
     "output_type": "stream",
     "text": [
      "100%|██████████| 9718/9718 [02:02<00:00, 79.34it/s] \n"
     ]
    },
    {
     "name": "stdout",
     "output_type": "stream",
     "text": [
      "Saved speeds for M50 on 2024-12-09\n",
      "Parsed GTFS static feed data successfully\n"
     ]
    },
    {
     "name": "stderr",
     "output_type": "stream",
     "text": [
      "/Users/luohy/Documents/Projects/bus-observatory/gtfs-realtime-performance/.venv/lib/python3.10/site-packages/shapely/linear.py:88: RuntimeWarning: invalid value encountered in line_locate_point\n",
      "  return lib.line_locate_point(line, other)\n"
     ]
    },
    {
     "name": "stdout",
     "output_type": "stream",
     "text": [
      "Read 1403 files from s3\n",
      "Parsed GTFS static feed data successfully\n",
      "Processing 9390 trips...\n"
     ]
    },
    {
     "name": "stderr",
     "output_type": "stream",
     "text": [
      "100%|██████████| 9390/9390 [01:52<00:00, 83.41it/s] \n"
     ]
    },
    {
     "name": "stdout",
     "output_type": "stream",
     "text": [
      "Saved speeds for M50 on 2024-12-16\n",
      "Parsed GTFS static feed data successfully\n"
     ]
    },
    {
     "name": "stderr",
     "output_type": "stream",
     "text": [
      "/Users/luohy/Documents/Projects/bus-observatory/gtfs-realtime-performance/.venv/lib/python3.10/site-packages/shapely/linear.py:88: RuntimeWarning: invalid value encountered in line_locate_point\n",
      "  return lib.line_locate_point(line, other)\n"
     ]
    },
    {
     "name": "stdout",
     "output_type": "stream",
     "text": [
      "Read 1403 files from s3\n",
      "Parsed GTFS static feed data successfully\n",
      "Processing 9633 trips...\n"
     ]
    },
    {
     "name": "stderr",
     "output_type": "stream",
     "text": [
      "100%|██████████| 9633/9633 [01:59<00:00, 80.51it/s] \n"
     ]
    },
    {
     "name": "stdout",
     "output_type": "stream",
     "text": [
      "Saved speeds for M50 on 2024-12-23\n",
      "Parsed GTFS static feed data successfully\n"
     ]
    },
    {
     "name": "stderr",
     "output_type": "stream",
     "text": [
      "/Users/luohy/Documents/Projects/bus-observatory/gtfs-realtime-performance/.venv/lib/python3.10/site-packages/shapely/linear.py:88: RuntimeWarning: invalid value encountered in line_locate_point\n",
      "  return lib.line_locate_point(line, other)\n"
     ]
    },
    {
     "name": "stdout",
     "output_type": "stream",
     "text": [
      "Read 1403 files from s3\n",
      "Parsed GTFS static feed data successfully\n",
      "Processing 8746 trips...\n"
     ]
    },
    {
     "name": "stderr",
     "output_type": "stream",
     "text": [
      "100%|██████████| 8746/8746 [01:40<00:00, 87.06it/s] \n"
     ]
    },
    {
     "name": "stdout",
     "output_type": "stream",
     "text": [
      "Saved speeds for M50 on 2024-12-30\n"
     ]
    }
   ],
   "source": [
    "bucket = \"dataclinic-gtfs-rt\"\n",
    "route_id = \"M50\"\n",
    "\n",
    "weekday_type = 0\n",
    "experiment_mondays = get_all_weekdays(\"2025-01-05\", \"2025-01-31\", weekday_type)\n",
    "comparison_mondays = get_all_weekdays(\"2024-12-05\", \"2024-12-31\", weekday_type)\n",
    "\n",
    "print(experiment_mondays)\n",
    "print(comparison_mondays)\n",
    "\n",
    "# Create directories if they do not exist\n",
    "os.makedirs(\"data/2025-jan/\", exist_ok=True)\n",
    "os.makedirs(\"data/2024-dec/\", exist_ok=True)\n",
    "\n",
    "# Process experiment mondays\n",
    "for date in experiment_mondays:\n",
    "    speeds = calculate_speeds_for_route(bucket, date, route_id)\n",
    "    speeds.to_csv(os.path.join(\"data/2025-jan/\", f\"speeds_{route_id}_{date}.csv\"), index=False)\n",
    "    print(f\"Saved speeds for {route_id} on {date}\")\n",
    "\n",
    "# Process comparison mondays\n",
    "for date in comparison_mondays:\n",
    "    speeds = calculate_speeds_for_route(bucket, date, route_id)\n",
    "    speeds.to_csv(os.path.join(\"data/2024-dec/\", f\"speeds_{route_id}_{date}.csv\"), index=False)\n",
    "    print(f\"Saved speeds for {route_id} on {date}\")"
   ]
  },
  {
   "cell_type": "markdown",
   "metadata": {},
   "source": [
    "## 2. Data Loading and Transformation\n",
    "TODOs:\n",
    "- Geographical check\n",
    "- Timezone check\n",
    "- Experiment with different aggregation methods\n",
    "- Experiment with different visualization methods"
   ]
  },
  {
   "cell_type": "code",
   "execution_count": 25,
   "metadata": {},
   "outputs": [
    {
     "name": "stdout",
     "output_type": "stream",
     "text": [
      "Index(['trip_id', 'shape_id', 'stop_sequence', 'stop_id', 'stop_name',\n",
      "       'prev_stop_id', 'prev_stop_name', 'projected_position',\n",
      "       'prev_projected_position', 'segment_length', 'interpolated_time',\n",
      "       'time_elapsed', 'speed_mph', 'unique_trip_id', 'route_id'],\n",
      "      dtype='object')\n",
      "Index(['trip_id', 'shape_id', 'stop_sequence', 'stop_id', 'stop_name',\n",
      "       'prev_stop_id', 'prev_stop_name', 'projected_position',\n",
      "       'prev_projected_position', 'segment_length', 'interpolated_time',\n",
      "       'time_elapsed', 'speed_mph', 'unique_trip_id', 'route_id'],\n",
      "      dtype='object')\n",
      "trip_id                                         MQ_O4-Weekday-027800_M50_351\n",
      "shape_id                                                             M500048\n",
      "stop_sequence                                                              3\n",
      "stop_id                                                               402161\n",
      "stop_name                                                      12 AV/W 46 ST\n",
      "prev_stop_id                                                          402160\n",
      "prev_stop_name                                                 12 AV/W 43 ST\n",
      "projected_position                                               1257.057091\n",
      "prev_projected_position                                           451.105286\n",
      "segment_length                                                    805.951806\n",
      "interpolated_time                                        2024-12-16 15:55:39\n",
      "time_elapsed                                                            73.0\n",
      "speed_mph                                                           7.527568\n",
      "unique_trip_id             MQ_D4-Weekday-SDon-065300_M50_352MTA NYCT_9693...\n",
      "route_id                                                                 M50\n",
      "Name: 0, dtype: object\n"
     ]
    }
   ],
   "source": [
    "# loading and concatenting all the files needed\n",
    "def list_files(folder_path):\n",
    "    return [f for f in os.listdir(folder_path) if os.path.isfile(os.path.join(folder_path, f))]\n",
    "\n",
    "bus_speed_202412thurs = load_all_csv_files(list_files(\"data/2024-dec/\"), \"data/2024-dec/\")\n",
    "bus_speed_202501thurs = load_all_csv_files(list_files(\"data/2025-jan/\"), \"data/2025-jan/\")\n",
    "\n",
    "bus_speed_202412thurs.drop('Unnamed: 0', axis=1, inplace=True)\n",
    "bus_speed_202501thurs.drop('Unnamed: 0', axis=1, inplace=True)\n",
    "\n",
    "print(bus_speed_202412thurs.columns)\n",
    "print(bus_speed_202501thurs.columns)\n",
    "\n",
    "# check the first row of the dataframe\n",
    "print(bus_speed_202412thurs.iloc[0])\n"
   ]
  },
  {
   "cell_type": "markdown",
   "metadata": {},
   "source": [
    "### Geographical Boundary Check"
   ]
  },
  {
   "cell_type": "code",
   "execution_count": 26,
   "metadata": {},
   "outputs": [],
   "source": [
    "# load the boundary shape file\n",
    "boundary = gpd.read_file(\"data/congestion_zone_boundary.geojson\")\n",
    "\n",
    "# create stop points from feed:  url -> GTFS_dict -> stops.txt\n",
    "def create_and_check_stop_points(feed_identifier, feed_updates, boundary_shape):\n",
    "    # get GFTS dict from feed_identifier\n",
    "    url = feed_updates[feed_updates[\"id\"] == feed_identifier][\"hosted_url\"].iloc[0]\n",
    "    GTFS_dict = parse_zipped_gtfs(url)\n",
    "    # get stops from GTFS_dict\n",
    "    stops = GTFS_dict[\"stops.txt\"]\n",
    "    # create stop points geodataframe from stops\n",
    "    stop_points = gpd.GeoDataFrame(stops, geometry=gpd.points_from_xy(stops.stop_lon, stops.stop_lat))\n",
    "    # run point in polygon check, and return a new column \"in_boundary\"\n",
    "    stop_points[\"in_boundary\"] = stop_points.geometry.apply(lambda x: boundary_shape.contains(x))\n",
    "    # print(stop_points.columns)\n",
    "    print(\"Distribution of stop points in boundary: \")\n",
    "    print(stop_points[\"in_boundary\"].value_counts())\n",
    "    return stop_points"
   ]
  },
  {
   "cell_type": "code",
   "execution_count": 27,
   "metadata": {},
   "outputs": [
    {
     "name": "stdout",
     "output_type": "stream",
     "text": [
      "Parsed GTFS static feed data successfully, length:  8\n",
      "Distribution of stop points in boundary: \n",
      "in_boundary\n",
      "False    1045\n",
      "True      799\n",
      "Name: count, dtype: int64\n",
      "Parsed GTFS static feed data successfully, length:  8\n",
      "Distribution of stop points in boundary: \n",
      "in_boundary\n",
      "False    1044\n",
      "True      799\n",
      "Name: count, dtype: int64\n",
      "Parsed GTFS static feed data successfully, length:  8\n",
      "Distribution of stop points in boundary: \n",
      "in_boundary\n",
      "False    1044\n",
      "True      799\n",
      "Name: count, dtype: int64\n",
      "Parsed GTFS static feed data successfully, length:  8\n",
      "Distribution of stop points in boundary: \n",
      "in_boundary\n",
      "False    1045\n",
      "True      798\n",
      "Name: count, dtype: int64\n",
      "(805, 11)\n"
     ]
    }
   ],
   "source": [
    "# create a dataframe of stops in the boundary\n",
    "stops_in_boundary = pd.DataFrame()\n",
    "feed_candidates = [\"mdb-513-202412120015\", \"mdb-513-202501020055\", \"mdb-513-202501230024\", \"mdb-513-202502170105\"]\n",
    "for feed_identifier in feed_candidates:\n",
    "    stop_points = create_and_check_stop_points(feed_identifier, feed_updates, boundary)\n",
    "    stop_points = stop_points[stop_points[\"in_boundary\"] == True]\n",
    "    stops_in_boundary = pd.concat([stops_in_boundary, stop_points])\n",
    "    # drop duplcates if stop_id is the same\n",
    "    stops_in_boundary = stops_in_boundary.drop_duplicates(subset=\"stop_id\")\n",
    "\n",
    "print(stops_in_boundary.shape)"
   ]
  },
  {
   "cell_type": "code",
   "execution_count": 28,
   "metadata": {},
   "outputs": [
    {
     "name": "stdout",
     "output_type": "stream",
     "text": [
      "(4509, 15)\n",
      "(6085, 15)\n",
      "(4509, 15)\n",
      "(6085, 15)\n"
     ]
    }
   ],
   "source": [
    "# match speed data with stops in the boundary\n",
    "# if both stop_id and prev_stop_id are in the stops_in_boundary, then keep the row\n",
    "print(bus_speed_202412thurs.shape)\n",
    "print(bus_speed_202501thurs.shape)\n",
    "\n",
    "# create a set of valid stop ids\n",
    "valid_stop_ids = set(stops_in_boundary[\"stop_id\"])\n",
    "\n",
    "# CORE: Filter the data with valid stop ids within the congestion zone boundary\n",
    "bus_speed_202412thurs_cz = bus_speed_202412thurs[bus_speed_202412thurs[\"stop_id\"].isin(valid_stop_ids) & bus_speed_202412thurs[\"prev_stop_id\"].isin(valid_stop_ids)]\n",
    "bus_speed_202501thurs_cz = bus_speed_202501thurs[bus_speed_202501thurs[\"stop_id\"].isin(valid_stop_ids) & bus_speed_202501thurs[\"prev_stop_id\"].isin(valid_stop_ids)]\n",
    "\n",
    "print(bus_speed_202412thurs_cz.shape)\n",
    "print(bus_speed_202501thurs_cz.shape)"
   ]
  },
  {
   "cell_type": "markdown",
   "metadata": {},
   "source": [
    "### Timezone check and conversion"
   ]
  },
  {
   "cell_type": "code",
   "execution_count": 29,
   "metadata": {},
   "outputs": [],
   "source": [
    "# Raw timestamp:\n",
    "# POSIX time (Unix epoch time) - the number of seconds elapsed since January 1, 1970, 00:00:00 UTC\n",
    "\n",
    "def convert_to_nyc_time(df):\n",
    "    eastern_tz = pytz.timezone('America/New_York')\n",
    "    df['interpolated_time'] = pd.to_datetime(df['interpolated_time'])\n",
    "    df['datetime_nyc'] = df['interpolated_time'].dt.tz_localize('UTC').dt.tz_convert(eastern_tz)\n",
    "    return df\n",
    "\n",
    "bus_speed_202412thurs_cz = convert_to_nyc_time(bus_speed_202412thurs_cz)\n",
    "bus_speed_202501thurs_cz = convert_to_nyc_time(bus_speed_202501thurs_cz)\n"
   ]
  },
  {
   "cell_type": "markdown",
   "metadata": {},
   "source": [
    "### Experiment: Aggregation Methods and Corresponding Visualization Methods\n"
   ]
  },
  {
   "cell_type": "code",
   "execution_count": 30,
   "metadata": {},
   "outputs": [
    {
     "name": "stdout",
     "output_type": "stream",
     "text": [
      "Index(['trip_id', 'shape_id', 'stop_sequence', 'stop_id', 'stop_name',\n",
      "       'prev_stop_id', 'prev_stop_name', 'projected_position',\n",
      "       'prev_projected_position', 'segment_length', 'interpolated_time',\n",
      "       'time_elapsed', 'speed_mph', 'unique_trip_id', 'route_id',\n",
      "       'datetime_nyc'],\n",
      "      dtype='object')\n",
      "trip_id                                         MQ_O4-Weekday-027800_M50_351\n",
      "shape_id                                                             M500048\n",
      "stop_sequence                                                              3\n",
      "stop_id                                                               402161\n",
      "stop_name                                                      12 AV/W 46 ST\n",
      "prev_stop_id                                                          402160\n",
      "prev_stop_name                                                 12 AV/W 43 ST\n",
      "projected_position                                               1257.057091\n",
      "prev_projected_position                                           451.105286\n",
      "segment_length                                                    805.951806\n",
      "interpolated_time                                        2024-12-16 15:55:39\n",
      "time_elapsed                                                            73.0\n",
      "speed_mph                                                           7.527568\n",
      "unique_trip_id             MQ_D4-Weekday-SDon-065300_M50_352MTA NYCT_9693...\n",
      "route_id                                                                 M50\n",
      "datetime_nyc                                       2024-12-16 10:55:39-05:00\n",
      "Name: 0, dtype: object\n",
      "(4509, 16)\n",
      "28\n",
      "[np.float64(1257.0570911019315), np.float64(1409.476124767059), np.float64(1791.8687010693882), np.float64(1946.4388070260443), np.float64(2286.8278085662246), np.float64(2936.4399462071856), np.float64(2956.986493222857), np.float64(3492.1088980460263), np.float64(3860.51906854977), np.float64(4488.675690476374), np.float64(4673.892169198017), np.float64(5417.033770032232), np.float64(5731.067188050491), np.float64(6364.158787925847), np.float64(6453.746679024361), np.float64(7157.68329354168), np.float64(7499.064019720619), np.float64(7934.802650711587), np.float64(8471.269507023246), np.float64(9009.94270047318), np.float64(9022.67399736254), np.float64(9562.792539485989), np.float64(10061.761830607004), np.float64(10334.960088168948), np.float64(10586.252642873627), np.float64(11110.964556669684), np.float64(11289.945874531208), np.float64(12765.17260454298)]\n",
      "28\n",
      "[np.float64(451.1052855949172), np.float64(754.6840914926902), np.float64(1257.0570911019315), np.float64(1409.476124767059), np.float64(1791.8687010693882), np.float64(1946.4388070260443), np.float64(2286.8278085662246), np.float64(2936.4399462071856), np.float64(2956.986493222857), np.float64(3492.1088980460263), np.float64(3860.51906854977), np.float64(4488.675690476374), np.float64(4673.892169198017), np.float64(5417.033770032232), np.float64(5731.067188050491), np.float64(6364.158787925847), np.float64(6453.746679024361), np.float64(7157.68329354168), np.float64(7499.064019720619), np.float64(7934.802650711587), np.float64(8471.269507023246), np.float64(9009.94270047318), np.float64(9022.67399736254), np.float64(9562.792539485989), np.float64(10061.761830607004), np.float64(10334.960088168948), np.float64(10586.252642873627), np.float64(11110.964556669684)]\n"
     ]
    }
   ],
   "source": [
    "# Understanding the data fields\n",
    "print(bus_speed_202412thurs_cz.columns)\n",
    "print(bus_speed_202412thurs_cz.iloc[0])\n",
    "print(bus_speed_202412thurs_cz.shape)\n",
    "\n",
    "print(bus_speed_202501thurs_cz[\"projected_position\"].nunique())\n",
    "print(sorted(bus_speed_202501thurs_cz[\"projected_position\"].unique()))\n",
    "\n",
    "print(bus_speed_202501thurs_cz[\"prev_projected_position\"].nunique())\n",
    "print(sorted(bus_speed_202501thurs_cz[\"prev_projected_position\"].unique()))"
   ]
  },
  {
   "cell_type": "code",
   "execution_count": 33,
   "metadata": {},
   "outputs": [
    {
     "name": "stdout",
     "output_type": "stream",
     "text": [
      "trip_id                                        MQ_A5-Weekday-030500_M50_351\n",
      "shape_id                                                            M500049\n",
      "stop_sequence                                                             3\n",
      "stop_id                                                              402185\n",
      "stop_name                                                      E 49 ST/3 AV\n",
      "prev_stop_id                                                         405193\n",
      "prev_stop_name                                                 E 49 ST/2 Av\n",
      "projected_position                                              1409.476125\n",
      "prev_projected_position                                          754.684091\n",
      "segment_length                                                   654.792033\n",
      "interpolated_time                                       2025-01-20 02:04:30\n",
      "time_elapsed                                                          121.0\n",
      "speed_mph                                                          3.689661\n",
      "unique_trip_id             MQ_A5-Sunday-126000_M50_358MTA NYCT_971320250119\n",
      "route_id                                                                M50\n",
      "datetime_nyc                                      2025-01-19 21:04:30-05:00\n",
      "hour                                                                     21\n",
      "weekday                                                                   6\n",
      "Name: 0, dtype: object\n"
     ]
    }
   ],
   "source": [
    "# preparation\n",
    "\n",
    "# hour: no date information retained\n",
    "bus_speed_202501thurs_cz[\"hour\"] = bus_speed_202501thurs_cz[\"datetime_nyc\"].dt.floor(\"h\").dt.strftime(\"%H\")\n",
    "bus_speed_202412thurs_cz[\"hour\"] = bus_speed_202412thurs_cz[\"datetime_nyc\"].dt.floor(\"h\").dt.strftime(\"%H\")\n",
    "\n",
    "# weekday: integer representation of the day of the week\n",
    "bus_speed_202501thurs_cz[\"weekday\"] = bus_speed_202501thurs_cz[\"datetime_nyc\"].dt.dayofweek\n",
    "bus_speed_202412thurs_cz[\"weekday\"] = bus_speed_202412thurs_cz[\"datetime_nyc\"].dt.dayofweek\n",
    "\n",
    "print(bus_speed_202501thurs_cz.iloc[0])\n"
   ]
  },
  {
   "cell_type": "markdown",
   "metadata": {},
   "source": [
    "#### 1. Speed by Hour"
   ]
  },
  {
   "cell_type": "code",
   "execution_count": 34,
   "metadata": {},
   "outputs": [
    {
     "data": {
      "image/png": "[encoded data removed]",
      "text/plain": [
       "<Figure size 1000x600 with 1 Axes>"
      ]
     },
     "metadata": {},
     "output_type": "display_data"
    }
   ],
   "source": [
    "df_experiment = bus_speed_202501thurs_cz.copy()\n",
    "df_comparison = bus_speed_202412thurs_cz.copy()\n",
    "\n",
    "# median speed, group by hour and weekday\n",
    "df_experiment = df_experiment.groupby([\"hour\", \"weekday\"]).agg(\n",
    "    speed_median = (\"speed_mph\", \"median\")\n",
    ").reset_index()\n",
    "\n",
    "df_comparison = df_comparison.groupby([\"hour\", \"weekday\"]).agg(\n",
    "    speed_median = (\"speed_mph\", \"median\")\n",
    ").reset_index()\n",
    "\n",
    "# Generate a plot with x-axis as hour of the day and y-axis as median speed (mph)\n",
    "plt.figure(figsize=(10, 6))\n",
    "plt.plot(df_experiment[\"hour\"], df_experiment[\"speed_median\"], label=\"Experiment\")\n",
    "plt.plot(df_comparison[\"hour\"], df_comparison[\"speed_median\"], label=\"Comparison\")\n",
    "plt.title(\"Median Speed by Hour\")\n",
    "plt.xlabel(\"Hour of the Day\")\n",
    "plt.ylabel(\"Median Speed (mph)\")\n",
    "plt.xticks(range(0, 24))\n",
    "plt.legend()\n",
    "plt.grid(True)\n",
    "plt.show()"
   ]
  },
  {
   "cell_type": "code",
   "execution_count": 93,
   "metadata": {},
   "outputs": [
    {
     "name": "stderr",
     "output_type": "stream",
     "text": [
      "/var/folders/ms/n7l6fpkd7bzbgn2k868rryv00000gn/T/ipykernel_87567/3518413873.py:4: FutureWarning: 'H' is deprecated and will be removed in a future version, please use 'h' instead.\n",
      "  df_202501thurs[\"hour\"] = df_202501thurs[\"interpolated_time\"].dt.floor(\"H\").dt.strftime(\"%H\")\n",
      "/var/folders/ms/n7l6fpkd7bzbgn2k868rryv00000gn/T/ipykernel_87567/3518413873.py:11: FutureWarning: 'H' is deprecated and will be removed in a future version, please use 'h' instead.\n",
      "  df_202412thurs[\"hour\"] = df_202412thurs[\"interpolated_time\"].dt.floor(\"H\").dt.strftime(\"%H\")\n"
     ]
    },
    {
     "data": {
      "image/png": "[encoded data removed]",
      "text/plain": [
       "<Figure size 1000x600 with 1 Axes>"
      ]
     },
     "metadata": {},
     "output_type": "display_data"
    }
   ],
   "source": [
    "# plot the segment of a trip with median speed of the hour\n",
    "df_202501thurs = bus_speed_202501thurs.copy()\n",
    "df_202501thurs[\"interpolated_time\"] = pd.to_datetime(df_202501thurs[\"interpolated_time\"])\n",
    "df_202501thurs[\"hour\"] = df_202501thurs[\"interpolated_time\"].dt.floor(\"H\").dt.strftime(\"%H\")\n",
    "df_202501thurs = df_202501thurs.groupby([\"hour\", \"route_id\"]).agg(\n",
    "    speed_mph = (\"speed_mph\", \"median\")\n",
    ").reset_index()\n",
    "\n",
    "df_202412thurs = bus_speed_202412thurs.copy()\n",
    "df_202412thurs[\"interpolated_time\"] = pd.to_datetime(df_202412thurs[\"interpolated_time\"])\n",
    "df_202412thurs[\"hour\"] = df_202412thurs[\"interpolated_time\"].dt.floor(\"H\").dt.strftime(\"%H\")\n",
    "df_202412thurs = df_202412thurs.groupby([\"hour\", \"route_id\"]).agg(\n",
    "    speed_mph = (\"speed_mph\", \"median\")\n",
    ").reset_index()\n",
    "\n",
    "# line plot \n",
    "plt.figure(figsize=(10, 6))\n",
    "plt.plot(df_202501thurs[\"hour\"], df_202501thurs[\"speed_mph\"], label=\"2025-01-thursdays\")\n",
    "plt.plot(df_202412thurs[\"hour\"], df_202412thurs[\"speed_mph\"], label=\"2024-12-thursdays\")\n",
    "plt.title(\"Speed by Hour\")\n",
    "plt.xlabel(\"Hour\")\n",
    "plt.ylabel(\"Speed (mph)\")\n",
    "plt.xticks(range(0, 24))\n",
    "plt.legend()\n",
    "plt.grid(True)\n",
    "plt.show()\n"
   ]
  },
  {
   "cell_type": "code",
   "execution_count": 14,
   "metadata": {},
   "outputs": [
    {
     "name": "stdout",
     "output_type": "stream",
     "text": [
      "Parsed GTFS static feed data successfully\n"
     ]
    },
    {
     "name": "stderr",
     "output_type": "stream",
     "text": [
      "/Users/luohy/Documents/Projects/bus-observatory/gtfs-realtime-performance/.venv/lib/python3.10/site-packages/shapely/linear.py:88: RuntimeWarning: invalid value encountered in line_locate_point\n",
      "  return lib.line_locate_point(line, other)\n"
     ]
    },
    {
     "data": {
      "text/plain": [
       "<Axes: >"
      ]
     },
     "execution_count": 14,
     "metadata": {},
     "output_type": "execute_result"
    },
    {
     "data": {
      "image/png": "[encoded data removed]",
      "text/plain": [
       "<Figure size 640x480 with 2 Axes>"
      ]
     },
     "metadata": {},
     "output_type": "display_data"
    }
   ],
   "source": [
    "# plot the segment of a trip with median speed of the day\n",
    "date = \"2025-01-06\"\n",
    "route_id = \"M50\"\n",
    "correct_url, _ = get_correct_static_url(feed_updates, date)\n",
    "segment_df = GTFS_shape_processor(correct_url, 4326, 2263).process_shapes()\n",
    "speeds = pd.read_csv(f\"data/2025-jan/speeds_{route_id}_{date}.csv\")\n",
    "segment_df.merge(speeds.groupby([\"prev_stop_id\", \"stop_id\"])[\"speed_mph\"].median().reset_index()).plot(column=\"speed_mph\", legend=True)"
   ]
  },
  {
   "cell_type": "markdown",
   "metadata": {},
   "source": [
    "moving on:\n",
    "\n",
    "- go with the travel time or speed? - speed \n",
    "- solve the UTC time difference and the missing time period\n",
    "- geojson io to get the congestion zone boundary\n",
    "- geo boundary check with the chosen routes shape\n",
    "- data pipeline migration\n",
    "- database design? - design and discuss\n",
    "- backend service design"
   ]
  }
 ],
 "metadata": {
  "kernelspec": {
   "display_name": ".venv",
   "language": "python",
   "name": "python3"
  },
  "language_info": {
   "codemirror_mode": {
    "name": "ipython",
    "version": 3
   },
   "file_extension": ".py",
   "mimetype": "text/x-python",
   "name": "python",
   "nbconvert_exporter": "python",
   "pygments_lexer": "ipython3",
   "version": "3.10.16"
  }
 },
 "nbformat": 4,
 "nbformat_minor": 2
}
